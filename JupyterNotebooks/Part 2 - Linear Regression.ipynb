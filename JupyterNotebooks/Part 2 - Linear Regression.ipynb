{
 "cells": [
  {
   "cell_type": "code",
   "execution_count": 21,
   "metadata": {},
   "outputs": [],
   "source": [
    "%matplotlib inline\n",
    "from collections import Counter\n",
    "import random\n",
    "\n",
    "import numpy as np\n",
    "import matplotlib.pyplot as plt\n",
    "import pandas as pd\n",
    "import seaborn as sns\n",
    "from scipy.stats import multivariate_normal\n",
    "from sklearn import datasets, linear_model\n",
    "from sklearn.model_selection import train_test_split\n",
    "import statsmodels.api as sm # import statsmodels \n",
    "from statsmodels.formula.api import ols\n"
   ]
  },
  {
   "cell_type": "code",
   "execution_count": 22,
   "metadata": {},
   "outputs": [],
   "source": [
    "df = pd.read_csv(\"../Data/Replaced.csv\",encoding=\"ISO-8859-1\")"
   ]
  },
  {
   "cell_type": "code",
   "execution_count": 23,
   "metadata": {},
   "outputs": [
    {
     "data": {
      "text/plain": [
       "Index(['Unnamed: 0', 'id', 'brand', 'categories', 'dateAdded', 'dateUpdated',\n",
       "       'ean', 'keys', 'manufacturer', 'manufacturerNumber', 'name',\n",
       "       'reviewsdate', 'dateSeen', 'didPurchase', 'doRecommend', 'reviews_id',\n",
       "       'reviews.numHelpful', 'rating', 'sourceURLs', 'text', 'title',\n",
       "       'userCity', 'userProvince', 'username', 'upc'],\n",
       "      dtype='object')"
      ]
     },
     "execution_count": 23,
     "metadata": {},
     "output_type": "execute_result"
    }
   ],
   "source": [
    "df.columns"
   ]
  },
  {
   "cell_type": "markdown",
   "metadata": {},
   "source": [
    "#### Convert boolean values to binary values i.e. True to 1 and False to 0"
   ]
  },
  {
   "cell_type": "code",
   "execution_count": 24,
   "metadata": {},
   "outputs": [],
   "source": [
    "df.didPurchase = (df.didPurchase)*1\n",
    "df.doRecommend = (df.doRecommend)*1\n",
    "\n",
    "df['doRecommend'] = df['doRecommend'].fillna(1)\n",
    "df['didPurchase'] = df['didPurchase'].fillna(1)"
   ]
  },
  {
   "cell_type": "code",
   "execution_count": 25,
   "metadata": {},
   "outputs": [
    {
     "data": {
      "text/plain": [
       "dtype('int64')"
      ]
     },
     "execution_count": 25,
     "metadata": {},
     "output_type": "execute_result"
    }
   ],
   "source": [
    "df.doRecommend.dtype"
   ]
  },
  {
   "cell_type": "markdown",
   "metadata": {},
   "source": [
    "#### Set predictor columns to determine and evaluate the results"
   ]
  },
  {
   "cell_type": "code",
   "execution_count": 26,
   "metadata": {},
   "outputs": [
    {
     "data": {
      "text/html": [
       "<table class=\"simpletable\">\n",
       "<caption>OLS Regression Results</caption>\n",
       "<tr>\n",
       "  <th>Dep. Variable:</th>       <td>doRecommend</td>   <th>  R-squared:         </th>  <td>   0.396</td> \n",
       "</tr>\n",
       "<tr>\n",
       "  <th>Model:</th>                   <td>OLS</td>       <th>  Adj. R-squared:    </th>  <td>   0.396</td> \n",
       "</tr>\n",
       "<tr>\n",
       "  <th>Method:</th>             <td>Least Squares</td>  <th>  F-statistic:       </th>  <td>2.323e+04</td>\n",
       "</tr>\n",
       "<tr>\n",
       "  <th>Date:</th>             <td>Fri, 17 Aug 2018</td> <th>  Prob (F-statistic):</th>   <td>  0.00</td>  \n",
       "</tr>\n",
       "<tr>\n",
       "  <th>Time:</th>                 <td>22:35:09</td>     <th>  Log-Likelihood:    </th>  <td>  14960.</td> \n",
       "</tr>\n",
       "<tr>\n",
       "  <th>No. Observations:</th>      <td> 71003</td>      <th>  AIC:               </th> <td>-2.991e+04</td>\n",
       "</tr>\n",
       "<tr>\n",
       "  <th>Df Residuals:</th>          <td> 71000</td>      <th>  BIC:               </th> <td>-2.989e+04</td>\n",
       "</tr>\n",
       "<tr>\n",
       "  <th>Df Model:</th>              <td>     2</td>      <th>                     </th>      <td> </td>    \n",
       "</tr>\n",
       "<tr>\n",
       "  <th>Covariance Type:</th>      <td>nonrobust</td>    <th>                     </th>      <td> </td>    \n",
       "</tr>\n",
       "</table>\n",
       "<table class=\"simpletable\">\n",
       "<tr>\n",
       "       <td></td>          <th>coef</th>     <th>std err</th>      <th>t</th>      <th>P>|t|</th>  <th>[0.025</th>    <th>0.975]</th>  \n",
       "</tr>\n",
       "<tr>\n",
       "  <th>const</th>       <td>    0.2638</td> <td>    0.003</td> <td>   82.334</td> <td> 0.000</td> <td>    0.258</td> <td>    0.270</td>\n",
       "</tr>\n",
       "<tr>\n",
       "  <th>didPurchase</th> <td>    0.0435</td> <td>    0.002</td> <td>   28.957</td> <td> 0.000</td> <td>    0.041</td> <td>    0.046</td>\n",
       "</tr>\n",
       "<tr>\n",
       "  <th>rating</th>      <td>    0.1464</td> <td>    0.001</td> <td>  212.057</td> <td> 0.000</td> <td>    0.145</td> <td>    0.148</td>\n",
       "</tr>\n",
       "</table>\n",
       "<table class=\"simpletable\">\n",
       "<tr>\n",
       "  <th>Omnibus:</th>       <td>21851.970</td> <th>  Durbin-Watson:     </th>  <td>   1.042</td> \n",
       "</tr>\n",
       "<tr>\n",
       "  <th>Prob(Omnibus):</th>  <td> 0.000</td>   <th>  Jarque-Bera (JB):  </th> <td>135317.736</td>\n",
       "</tr>\n",
       "<tr>\n",
       "  <th>Skew:</th>           <td>-1.339</td>   <th>  Prob(JB):          </th>  <td>    0.00</td> \n",
       "</tr>\n",
       "<tr>\n",
       "  <th>Kurtosis:</th>       <td> 9.210</td>   <th>  Cond. No.          </th>  <td>    20.8</td> \n",
       "</tr>\n",
       "</table>"
      ],
      "text/plain": [
       "<class 'statsmodels.iolib.summary.Summary'>\n",
       "\"\"\"\n",
       "                            OLS Regression Results                            \n",
       "==============================================================================\n",
       "Dep. Variable:            doRecommend   R-squared:                       0.396\n",
       "Model:                            OLS   Adj. R-squared:                  0.396\n",
       "Method:                 Least Squares   F-statistic:                 2.323e+04\n",
       "Date:                Fri, 17 Aug 2018   Prob (F-statistic):               0.00\n",
       "Time:                        22:35:09   Log-Likelihood:                 14960.\n",
       "No. Observations:               71003   AIC:                        -2.991e+04\n",
       "Df Residuals:                   71000   BIC:                        -2.989e+04\n",
       "Df Model:                           2                                         \n",
       "Covariance Type:            nonrobust                                         \n",
       "===============================================================================\n",
       "                  coef    std err          t      P>|t|      [0.025      0.975]\n",
       "-------------------------------------------------------------------------------\n",
       "const           0.2638      0.003     82.334      0.000       0.258       0.270\n",
       "didPurchase     0.0435      0.002     28.957      0.000       0.041       0.046\n",
       "rating          0.1464      0.001    212.057      0.000       0.145       0.148\n",
       "==============================================================================\n",
       "Omnibus:                    21851.970   Durbin-Watson:                   1.042\n",
       "Prob(Omnibus):                  0.000   Jarque-Bera (JB):           135317.736\n",
       "Skew:                          -1.339   Prob(JB):                         0.00\n",
       "Kurtosis:                       9.210   Cond. No.                         20.8\n",
       "==============================================================================\n",
       "\n",
       "Warnings:\n",
       "[1] Standard Errors assume that the covariance matrix of the errors is correctly specified.\n",
       "\"\"\""
      ]
     },
     "execution_count": 26,
     "metadata": {},
     "output_type": "execute_result"
    },
    {
     "data": {
      "image/png": "[encoded data removed]",
      "text/plain": [
       "<matplotlib.figure.Figure at 0x27df2a7fb00>"
      ]
     },
     "metadata": {},
     "output_type": "display_data"
    }
   ],
   "source": [
    "X=df[['didPurchase','rating']]\n",
    "y=df['doRecommend']\n",
    "X = sm.add_constant(X) \n",
    "sns.pairplot(df, x_vars=['didPurchase','rating',], y_vars=[\"doRecommend\"], size=5, aspect=.8, kind=\"reg\");\n",
    "\n",
    "\n",
    "# Fit the linear model\n",
    "model = linear_model.LinearRegression()\n",
    "results = model.fit(X, y)\n",
    "\n",
    "model = sm.OLS(y, X)\n",
    "results = model.fit()\n",
    "\n",
    "# Statsmodels gives R-like statistical output\n",
    "results.summary()"
   ]
  },
  {
   "cell_type": "markdown",
   "metadata": {},
   "source": [
    "#### dividing data to have a training and a testing set"
   ]
  },
  {
   "cell_type": "code",
   "execution_count": 27,
   "metadata": {},
   "outputs": [],
   "source": [
    "X_train, X_test, y_train, y_test = train_test_split(X, y, test_size=0.2)"
   ]
  },
  {
   "cell_type": "markdown",
   "metadata": {},
   "source": [
    "#### Finding the optimal accuracy score using LinearRegression algorithm"
   ]
  },
  {
   "cell_type": "code",
   "execution_count": 28,
   "metadata": {},
   "outputs": [
    {
     "name": "stdout",
     "output_type": "stream",
     "text": [
      "Score: 0.4043335291831772\n"
     ]
    },
    {
     "data": {
      "image/png": "[encoded data removed]",
      "text/plain": [
       "<matplotlib.figure.Figure at 0x27d81084c50>"
      ]
     },
     "metadata": {},
     "output_type": "display_data"
    }
   ],
   "source": [
    "lm = linear_model.LinearRegression()\n",
    "model_ = lm.fit(X_train, y_train)\n",
    "predictions = lm.predict(X_test)\n",
    "plt.scatter(y_test, predictions)\n",
    "plt.xlabel(\"True Values\")\n",
    "plt.ylabel(\"Predictions\")\n",
    "plt.xticks([0,1],['0','1'])\n",
    "print (\"Score:\", model_.score(X_test, y_test))\n"
   ]
  },
  {
   "cell_type": "markdown",
   "metadata": {},
   "source": [
    "### Using Linear Regression, the accuracy score is ~40.5% for user to likely to recommend a product."
   ]
  },
  {
   "cell_type": "code",
   "execution_count": 29,
   "metadata": {
    "scrolled": true
   },
   "outputs": [
    {
     "name": "stdout",
     "output_type": "stream",
     "text": [
      "Train: [    0     1     3 ... 71000 71001 71002] Validation: [    2     6     7 ... 70986 70996 70997]\n",
      "Train: [    0     1     2 ... 70997 71000 71002] Validation: [   17    18    24 ... 70998 70999 71001]\n",
      "Train: [    0     1     2 ... 71000 71001 71002] Validation: [   11    14    16 ... 70974 70984 70993]\n",
      "Train: [    0     2     3 ... 70999 71001 71002] Validation: [    1    13    19 ... 70992 70995 71000]\n",
      "Train: [    1     2     6 ... 70999 71000 71001] Validation: [    0     3     4 ... 70991 70994 71002]\n",
      "Train: [    0     1     3 ... 71000 71001 71002] Validation: [    2     4     9 ... 70981 70983 70994]\n",
      "Train: [    0     1     2 ... 71000 71001 71002] Validation: [    3    19    20 ... 70990 70991 70992]\n",
      "Train: [    0     1     2 ... 70999 71001 71002] Validation: [    6     7    22 ... 70995 70996 71000]\n",
      "Train: [    1     2     3 ... 70999 71000 71002] Validation: [    0     5     8 ... 70982 70998 71001]\n",
      "Train: [    0     2     3 ... 70998 71000 71001] Validation: [    1    11    12 ... 70997 70999 71002]\n",
      "Train: [    0     1     3 ... 71000 71001 71002] Validation: [    2     5     7 ... 70988 70992 70999]\n",
      "Train: [    0     1     2 ... 70999 71000 71002] Validation: [    8    12    15 ... 70989 70993 71001]\n",
      "Train: [    0     1     2 ... 70999 71001 71002] Validation: [    3     4     6 ... 70972 70980 71000]\n",
      "Train: [    1     2     3 ... 71000 71001 71002] Validation: [    0    14    22 ... 70994 70997 70998]\n",
      "Train: [    0     2     3 ... 70999 71000 71001] Validation: [    1     9    10 ... 70995 70996 71002]\n",
      "Train: [    0     1     2 ... 70999 71000 71001] Validation: [    4    21    23 ... 70991 70992 71002]\n",
      "Train: [    0     1     2 ... 70998 71000 71002] Validation: [    6     9    22 ... 70995 70999 71001]\n",
      "Train: [    1     2     4 ... 71000 71001 71002] Validation: [    0     3     7 ... 70996 70997 70998]\n",
      "Train: [    0     3     4 ... 70999 71001 71002] Validation: [    1     2     8 ... 70989 70993 71000]\n",
      "Train: [    0     1     2 ... 71000 71001 71002] Validation: [    5    11    36 ... 70983 70986 70987]\n",
      "Train: [    1     2     3 ... 70999 71000 71001] Validation: [    0     4     8 ... 70991 70993 71002]\n",
      "Train: [    0     1     2 ... 71000 71001 71002] Validation: [    5     6     7 ... 70984 70988 70992]\n",
      "Train: [    0     2     4 ... 71000 71001 71002] Validation: [    1     3     9 ... 70970 70976 70996]\n",
      "Train: [    0     1     3 ... 70996 70997 71002] Validation: [    2    18    33 ... 70999 71000 71001]\n",
      "Train: [    0     1     2 ... 71000 71001 71002] Validation: [   11    28    34 ... 70994 70995 70997]\n",
      "Train: [    1     2     3 ... 71000 71001 71002] Validation: [    0    13    24 ... 70993 70995 70999]\n",
      "Train: [    0     3     4 ... 71000 71001 71002] Validation: [    1     2     5 ... 70990 70991 70997]\n",
      "Train: [    0     1     2 ... 70999 71000 71002] Validation: [    3     4     7 ... 70980 70994 71001]\n",
      "Train: [    0     1     2 ... 71000 71001 71002] Validation: [    6     8     9 ... 70982 70987 70996]\n",
      "Train: [    0     1     2 ... 70997 70999 71001] Validation: [   14    15    18 ... 70998 71000 71002]\n",
      "Train: [    0     1     2 ... 71000 71001 71002] Validation: [    4    11    14 ... 70986 70989 70994]\n",
      "Train: [    0     4     5 ... 70999 71001 71002] Validation: [    1     2     3 ... 70980 70991 71000]\n",
      "Train: [    1     2     3 ... 71000 71001 71002] Validation: [    0     5    13 ... 70985 70988 70990]\n",
      "Train: [    0     1     2 ... 71000 71001 71002] Validation: [    7    28    29 ... 70997 70998 70999]\n",
      "Train: [    0     1     2 ... 70998 70999 71000] Validation: [   17    20    25 ... 70996 71001 71002]\n",
      "Train: [    1     2     3 ... 70999 71001 71002] Validation: [    0     5    10 ... 70980 70998 71000]\n",
      "Train: [    0     2     3 ... 71000 71001 71002] Validation: [    1     4     8 ... 70995 70996 70997]\n",
      "Train: [    0     1     2 ... 70999 71000 71001] Validation: [    3     6     7 ... 70989 70994 71002]\n",
      "Train: [    0     1     2 ... 71000 71001 71002] Validation: [    9    12    18 ... 70976 70983 70999]\n",
      "Train: [    0     1     3 ... 70999 71000 71002] Validation: [    2    14    25 ... 70992 70993 71001]\n",
      "Train: [    0     1     2 ... 71000 71001 71002] Validation: [   14    16    22 ... 70988 70989 70999]\n",
      "Train: [    0     1     2 ... 70999 71000 71002] Validation: [    5    20    25 ... 70994 70995 71001]\n",
      "Train: [    0     1     2 ... 71000 71001 71002] Validation: [    3     4     7 ... 70971 70972 70973]\n",
      "Train: [    2     3     4 ... 70999 71000 71001] Validation: [    0     1    10 ... 70996 70998 71002]\n",
      "Train: [    0     1     3 ... 70999 71001 71002] Validation: [    2     6     8 ... 70993 70997 71000]\n",
      "Train: [    0     1     2 ... 70999 71000 71001] Validation: [    6    11    17 ... 70994 70997 71002]\n",
      "Train: [    1     2     3 ... 71000 71001 71002] Validation: [    0    12    14 ... 70987 70995 70996]\n",
      "Train: [    0     1     2 ... 70998 70999 71002] Validation: [    5     7    16 ... 70992 71000 71001]\n",
      "Train: [    0     5     6 ... 71000 71001 71002] Validation: [    1     2     3 ... 70986 70988 70990]\n",
      "Train: [    0     1     2 ... 71000 71001 71002] Validation: [   10    18    21 ... 70993 70998 70999]\n"
     ]
    }
   ],
   "source": [
    "from sklearn.model_selection import RepeatedKFold\n",
    "\n",
    "kf = RepeatedKFold(n_splits=5, n_repeats=10, random_state=None) \n",
    "for train_index, test_index in kf.split(X):\n",
    "    print(\"Train:\", train_index, \"Validation:\",test_index)\n",
    "    X_train, X_test = X.iloc[train_index], X.iloc[test_index] \n",
    "    y_train, y_test = y.iloc[train_index], y.iloc[test_index]"
   ]
  },
  {
   "cell_type": "markdown",
   "metadata": {},
   "source": [
    "#### Create confusion matrix"
   ]
  },
  {
   "cell_type": "code",
   "execution_count": 30,
   "metadata": {},
   "outputs": [
    {
     "data": {
      "text/html": [
       "<div>\n",
       "<style scoped>\n",
       "    .dataframe tbody tr th:only-of-type {\n",
       "        vertical-align: middle;\n",
       "    }\n",
       "\n",
       "    .dataframe tbody tr th {\n",
       "        vertical-align: top;\n",
       "    }\n",
       "\n",
       "    .dataframe thead th {\n",
       "        text-align: right;\n",
       "    }\n",
       "</style>\n",
       "<table border=\"1\" class=\"dataframe\">\n",
       "  <thead>\n",
       "    <tr style=\"text-align: right;\">\n",
       "      <th>Predicted</th>\n",
       "      <th>0.4155466194801696</th>\n",
       "      <th>0.4573189268095137</th>\n",
       "      <th>0.560838167450816</th>\n",
       "      <th>0.6026104747801602</th>\n",
       "      <th>0.7061297154214626</th>\n",
       "      <th>0.7479020227508069</th>\n",
       "      <th>0.8514212633921092</th>\n",
       "      <th>0.8931935707214533</th>\n",
       "      <th>0.9967128113627558</th>\n",
       "      <th>1.0384851186920998</th>\n",
       "    </tr>\n",
       "    <tr>\n",
       "      <th>Actual</th>\n",
       "      <th></th>\n",
       "      <th></th>\n",
       "      <th></th>\n",
       "      <th></th>\n",
       "      <th></th>\n",
       "      <th></th>\n",
       "      <th></th>\n",
       "      <th></th>\n",
       "      <th></th>\n",
       "      <th></th>\n",
       "    </tr>\n",
       "  </thead>\n",
       "  <tbody>\n",
       "    <tr>\n",
       "      <th>0</th>\n",
       "      <td>26</td>\n",
       "      <td>19</td>\n",
       "      <td>7</td>\n",
       "      <td>13</td>\n",
       "      <td>20</td>\n",
       "      <td>33</td>\n",
       "      <td>59</td>\n",
       "      <td>127</td>\n",
       "      <td>276</td>\n",
       "      <td>368</td>\n",
       "    </tr>\n",
       "    <tr>\n",
       "      <th>1</th>\n",
       "      <td>420</td>\n",
       "      <td>263</td>\n",
       "      <td>158</td>\n",
       "      <td>175</td>\n",
       "      <td>291</td>\n",
       "      <td>578</td>\n",
       "      <td>828</td>\n",
       "      <td>1859</td>\n",
       "      <td>3537</td>\n",
       "      <td>5143</td>\n",
       "    </tr>\n",
       "  </tbody>\n",
       "</table>\n",
       "</div>"
      ],
      "text/plain": [
       "Predicted  0.415547  0.457319  0.560838  0.602610  0.706130  0.747902  \\\n",
       "Actual                                                                  \n",
       "0                26        19         7        13        20        33   \n",
       "1               420       263       158       175       291       578   \n",
       "\n",
       "Predicted  0.851421  0.893194  0.996713  1.038485  \n",
       "Actual                                             \n",
       "0                59       127       276       368  \n",
       "1               828      1859      3537      5143  "
      ]
     },
     "execution_count": 30,
     "metadata": {},
     "output_type": "execute_result"
    }
   ],
   "source": [
    "pd.crosstab(y_test, predictions[:-1].copy(), rownames=['Actual'], colnames=['Predicted'])"
   ]
  },
  {
   "cell_type": "code",
   "execution_count": 31,
   "metadata": {},
   "outputs": [
    {
     "data": {
      "text/plain": [
       "(14200,)"
      ]
     },
     "execution_count": 31,
     "metadata": {},
     "output_type": "execute_result"
    }
   ],
   "source": [
    "predictions[:-1].copy().shape"
   ]
  },
  {
   "cell_type": "code",
   "execution_count": 32,
   "metadata": {
    "scrolled": true
   },
   "outputs": [
    {
     "data": {
      "text/plain": [
       "0        1\n",
       "1        1\n",
       "2        1\n",
       "3        0\n",
       "4        0\n",
       "5        0\n",
       "6        0\n",
       "7        0\n",
       "8        0\n",
       "9        0\n",
       "10       0\n",
       "11       0\n",
       "12       0\n",
       "13       0\n",
       "14       0\n",
       "15       0\n",
       "16       0\n",
       "17       0\n",
       "18       1\n",
       "19       0\n",
       "20       1\n",
       "21       1\n",
       "22       1\n",
       "23       1\n",
       "24       1\n",
       "25       1\n",
       "26       1\n",
       "27       1\n",
       "28       1\n",
       "29       1\n",
       "        ..\n",
       "70973    1\n",
       "70974    1\n",
       "70975    1\n",
       "70976    1\n",
       "70977    1\n",
       "70978    1\n",
       "70979    1\n",
       "70980    1\n",
       "70981    1\n",
       "70982    1\n",
       "70983    1\n",
       "70984    1\n",
       "70985    1\n",
       "70986    1\n",
       "70987    1\n",
       "70988    1\n",
       "70989    1\n",
       "70990    1\n",
       "70991    1\n",
       "70992    1\n",
       "70993    1\n",
       "70994    1\n",
       "70995    1\n",
       "70996    1\n",
       "70997    1\n",
       "70998    1\n",
       "70999    1\n",
       "71000    1\n",
       "71001    1\n",
       "71002    1\n",
       "Name: doRecommend, Length: 71003, dtype: int64"
      ]
     },
     "execution_count": 32,
     "metadata": {},
     "output_type": "execute_result"
    }
   ],
   "source": [
    "y"
   ]
  },
  {
   "cell_type": "code",
   "execution_count": null,
   "metadata": {},
   "outputs": [],
   "source": []
  },
  {
   "cell_type": "code",
   "execution_count": null,
   "metadata": {},
   "outputs": [],
   "source": []
  }
 ],
 "metadata": {
  "kernelspec": {
   "display_name": "Python 3",
   "language": "python",
   "name": "python3"
  },
  "language_info": {
   "codemirror_mode": {
    "name": "ipython",
    "version": 3
   },
   "file_extension": ".py",
   "mimetype": "text/x-python",
   "name": "python",
   "nbconvert_exporter": "python",
   "pygments_lexer": "ipython3",
   "version": "3.6.4"
  }
 },
 "nbformat": 4,
 "nbformat_minor": 2
}
