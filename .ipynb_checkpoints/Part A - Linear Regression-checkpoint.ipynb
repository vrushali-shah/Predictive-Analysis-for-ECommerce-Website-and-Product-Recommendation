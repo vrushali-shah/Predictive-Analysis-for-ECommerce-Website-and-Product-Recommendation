{
 "cells": [
  {
   "cell_type": "code",
   "execution_count": 1,
   "metadata": {},
   "outputs": [
    {
     "name": "stderr",
     "output_type": "stream",
     "text": [
      "C:\\Users\\Vrushali Shah\\Anaconda3\\lib\\site-packages\\statsmodels\\compat\\pandas.py:56: FutureWarning: The pandas.core.datetools module is deprecated and will be removed in a future version. Please use the pandas.tseries module instead.\n",
      "  from pandas.core import datetools\n"
     ]
    }
   ],
   "source": [
    "%matplotlib inline\n",
    "from collections import Counter\n",
    "import random\n",
    "\n",
    "import numpy as np\n",
    "import matplotlib.pyplot as plt\n",
    "import pandas as pd\n",
    "import seaborn as sns\n",
    "from scipy.stats import multivariate_normal\n",
    "from sklearn import datasets, linear_model\n",
    "from sklearn.model_selection import train_test_split\n",
    "import statsmodels.api as sm # import statsmodels \n",
    "from statsmodels.formula.api import ols\n"
   ]
  },
  {
   "cell_type": "code",
   "execution_count": 3,
   "metadata": {},
   "outputs": [],
   "source": [
    "df = pd.read_csv(\"data.csv\",encoding=\"ISO-8859-1\")"
   ]
  },
  {
   "cell_type": "code",
   "execution_count": 4,
   "metadata": {},
   "outputs": [
    {
     "data": {
      "text/plain": [
       "Index(['Unnamed: 0', 'id', 'brand', 'categories', 'dateAdded', 'dateUpdated',\n",
       "       'ean', 'keys', 'manufacturer', 'manufacturerNumber', 'name',\n",
       "       'reviewsdate', 'dateSeen', 'didPurchase', 'doRecommend', 'reviews_id',\n",
       "       'reviews.numHelpful', 'rating', 'sourceURLs', 'text', 'title',\n",
       "       'userCity', 'userProvince', 'username', 'upc'],\n",
       "      dtype='object')"
      ]
     },
     "execution_count": 4,
     "metadata": {},
     "output_type": "execute_result"
    }
   ],
   "source": [
    "df.columns"
   ]
  },
  {
   "cell_type": "markdown",
   "metadata": {},
   "source": [
    "#### Convert boolean values to binary values i.e. True to 1 and False to 0"
   ]
  },
  {
   "cell_type": "code",
   "execution_count": 5,
   "metadata": {},
   "outputs": [],
   "source": [
    "df.didPurchase = (df.didPurchase)*1\n",
    "df.doRecommend = (df.doRecommend)*1\n",
    "\n",
    "df['doRecommend'] = df['doRecommend'].fillna(1)\n",
    "df['didPurchase'] = df['didPurchase'].fillna(1)"
   ]
  },
  {
   "cell_type": "code",
   "execution_count": 6,
   "metadata": {},
   "outputs": [
    {
     "data": {
      "text/plain": [
       "dtype('int64')"
      ]
     },
     "execution_count": 6,
     "metadata": {},
     "output_type": "execute_result"
    }
   ],
   "source": [
    "df.doRecommend.dtype"
   ]
  },
  {
   "cell_type": "markdown",
   "metadata": {},
   "source": [
    "#### Set predictor columns to determine and evaluate the results"
   ]
  },
  {
   "cell_type": "code",
   "execution_count": 7,
   "metadata": {},
   "outputs": [
    {
     "data": {
      "text/html": [
       "<table class=\"simpletable\">\n",
       "<caption>OLS Regression Results</caption>\n",
       "<tr>\n",
       "  <th>Dep. Variable:</th>       <td>doRecommend</td>   <th>  R-squared:         </th>  <td>   0.396</td> \n",
       "</tr>\n",
       "<tr>\n",
       "  <th>Model:</th>                   <td>OLS</td>       <th>  Adj. R-squared:    </th>  <td>   0.396</td> \n",
       "</tr>\n",
       "<tr>\n",
       "  <th>Method:</th>             <td>Least Squares</td>  <th>  F-statistic:       </th>  <td>2.323e+04</td>\n",
       "</tr>\n",
       "<tr>\n",
       "  <th>Date:</th>             <td>Fri, 03 Aug 2018</td> <th>  Prob (F-statistic):</th>   <td>  0.00</td>  \n",
       "</tr>\n",
       "<tr>\n",
       "  <th>Time:</th>                 <td>22:40:54</td>     <th>  Log-Likelihood:    </th>  <td>  14960.</td> \n",
       "</tr>\n",
       "<tr>\n",
       "  <th>No. Observations:</th>      <td> 71003</td>      <th>  AIC:               </th> <td>-2.991e+04</td>\n",
       "</tr>\n",
       "<tr>\n",
       "  <th>Df Residuals:</th>          <td> 71000</td>      <th>  BIC:               </th> <td>-2.989e+04</td>\n",
       "</tr>\n",
       "<tr>\n",
       "  <th>Df Model:</th>              <td>     2</td>      <th>                     </th>      <td> </td>    \n",
       "</tr>\n",
       "<tr>\n",
       "  <th>Covariance Type:</th>      <td>nonrobust</td>    <th>                     </th>      <td> </td>    \n",
       "</tr>\n",
       "</table>\n",
       "<table class=\"simpletable\">\n",
       "<tr>\n",
       "       <td></td>          <th>coef</th>     <th>std err</th>      <th>t</th>      <th>P>|t|</th>  <th>[0.025</th>    <th>0.975]</th>  \n",
       "</tr>\n",
       "<tr>\n",
       "  <th>const</th>       <td>    0.2638</td> <td>    0.003</td> <td>   82.334</td> <td> 0.000</td> <td>    0.258</td> <td>    0.270</td>\n",
       "</tr>\n",
       "<tr>\n",
       "  <th>didPurchase</th> <td>    0.0435</td> <td>    0.002</td> <td>   28.957</td> <td> 0.000</td> <td>    0.041</td> <td>    0.046</td>\n",
       "</tr>\n",
       "<tr>\n",
       "  <th>rating</th>      <td>    0.1464</td> <td>    0.001</td> <td>  212.057</td> <td> 0.000</td> <td>    0.145</td> <td>    0.148</td>\n",
       "</tr>\n",
       "</table>\n",
       "<table class=\"simpletable\">\n",
       "<tr>\n",
       "  <th>Omnibus:</th>       <td>21851.970</td> <th>  Durbin-Watson:     </th>  <td>   1.042</td> \n",
       "</tr>\n",
       "<tr>\n",
       "  <th>Prob(Omnibus):</th>  <td> 0.000</td>   <th>  Jarque-Bera (JB):  </th> <td>135317.736</td>\n",
       "</tr>\n",
       "<tr>\n",
       "  <th>Skew:</th>           <td>-1.339</td>   <th>  Prob(JB):          </th>  <td>    0.00</td> \n",
       "</tr>\n",
       "<tr>\n",
       "  <th>Kurtosis:</th>       <td> 9.210</td>   <th>  Cond. No.          </th>  <td>    20.8</td> \n",
       "</tr>\n",
       "</table>"
      ],
      "text/plain": [
       "<class 'statsmodels.iolib.summary.Summary'>\n",
       "\"\"\"\n",
       "                            OLS Regression Results                            \n",
       "==============================================================================\n",
       "Dep. Variable:            doRecommend   R-squared:                       0.396\n",
       "Model:                            OLS   Adj. R-squared:                  0.396\n",
       "Method:                 Least Squares   F-statistic:                 2.323e+04\n",
       "Date:                Fri, 03 Aug 2018   Prob (F-statistic):               0.00\n",
       "Time:                        22:40:54   Log-Likelihood:                 14960.\n",
       "No. Observations:               71003   AIC:                        -2.991e+04\n",
       "Df Residuals:                   71000   BIC:                        -2.989e+04\n",
       "Df Model:                           2                                         \n",
       "Covariance Type:            nonrobust                                         \n",
       "===============================================================================\n",
       "                  coef    std err          t      P>|t|      [0.025      0.975]\n",
       "-------------------------------------------------------------------------------\n",
       "const           0.2638      0.003     82.334      0.000       0.258       0.270\n",
       "didPurchase     0.0435      0.002     28.957      0.000       0.041       0.046\n",
       "rating          0.1464      0.001    212.057      0.000       0.145       0.148\n",
       "==============================================================================\n",
       "Omnibus:                    21851.970   Durbin-Watson:                   1.042\n",
       "Prob(Omnibus):                  0.000   Jarque-Bera (JB):           135317.736\n",
       "Skew:                          -1.339   Prob(JB):                         0.00\n",
       "Kurtosis:                       9.210   Cond. No.                         20.8\n",
       "==============================================================================\n",
       "\n",
       "Warnings:\n",
       "[1] Standard Errors assume that the covariance matrix of the errors is correctly specified.\n",
       "\"\"\""
      ]
     },
     "execution_count": 7,
     "metadata": {},
     "output_type": "execute_result"
    },
    {
     "data": {
      "image/png": "[encoded data removed]",
      "text/plain": [
       "<matplotlib.figure.Figure at 0x2296a54a6a0>"
      ]
     },
     "metadata": {},
     "output_type": "display_data"
    }
   ],
   "source": [
    "X=df[['didPurchase','rating']]\n",
    "y=df['doRecommend']\n",
    "X = sm.add_constant(X) \n",
    "sns.pairplot(df, x_vars=['didPurchase','rating',], y_vars=[\"doRecommend\"], size=5, aspect=.8, kind=\"reg\");\n",
    "\n",
    "\n",
    "# Fit the linear model\n",
    "model = linear_model.LinearRegression()\n",
    "results = model.fit(X, y)\n",
    "\n",
    "model = sm.OLS(y, X)\n",
    "results = model.fit()\n",
    "\n",
    "# Statsmodels gives R-like statistical output\n",
    "results.summary()"
   ]
  },
  {
   "cell_type": "markdown",
   "metadata": {},
   "source": [
    "#### dividing data to have a training and a testing set"
   ]
  },
  {
   "cell_type": "code",
   "execution_count": 8,
   "metadata": {},
   "outputs": [],
   "source": [
    "X_train, X_test, y_train, y_test = train_test_split(X, y, test_size=0.2)"
   ]
  },
  {
   "cell_type": "markdown",
   "metadata": {},
   "source": [
    "#### Finding the optimal accuracy score using LinearRegression algorithm"
   ]
  },
  {
   "cell_type": "code",
   "execution_count": 10,
   "metadata": {},
   "outputs": [
    {
     "name": "stdout",
     "output_type": "stream",
     "text": [
      "Score: 0.40528177255025943\n"
     ]
    },
    {
     "data": {
      "image/png": "[encoded data removed]",
      "text/plain": [
       "<matplotlib.figure.Figure at 0x22966437048>"
      ]
     },
     "metadata": {},
     "output_type": "display_data"
    }
   ],
   "source": [
    "lm = linear_model.LinearRegression()\n",
    "model_ = lm.fit(X_train, y_train)\n",
    "predictions = lm.predict(X_test)\n",
    "plt.scatter(y_test, predictions)\n",
    "plt.xlabel(\"True Values\")\n",
    "plt.ylabel(\"Predictions\")\n",
    "plt.xticks([0,1],['0','1'])\n",
    "print (\"Score:\", model_.score(X_test, y_test))\n"
   ]
  },
  {
   "cell_type": "markdown",
   "metadata": {},
   "source": [
    "### Using Linear Regression, the accuracy score is ~40.5% for user to likely to recommend a product."
   ]
  },
  {
   "cell_type": "code",
   "execution_count": 11,
   "metadata": {
    "scrolled": true
   },
   "outputs": [
    {
     "name": "stdout",
     "output_type": "stream",
     "text": [
      "Train: [    0     1     3 ... 70999 71000 71001] Validation: [    2    17    27 ... 70979 70998 71002]\n",
      "Train: [    0     2     5 ... 71000 71001 71002] Validation: [    1     3     4 ... 70973 70978 70983]\n",
      "Train: [    0     1     2 ... 71000 71001 71002] Validation: [    6    11    12 ... 70988 70990 70992]\n",
      "Train: [    1     2     3 ... 70999 71001 71002] Validation: [    0     5    13 ... 70993 70995 71000]\n",
      "Train: [    0     1     2 ... 70998 71000 71002] Validation: [    8     9    10 ... 70997 70999 71001]\n",
      "Train: [    0     2     3 ... 71000 71001 71002] Validation: [    1    15    17 ... 70976 70987 70995]\n",
      "Train: [    1     2     3 ... 71000 71001 71002] Validation: [    0    10    13 ... 70984 70990 70998]\n",
      "Train: [    0     1     2 ... 70999 71001 71002] Validation: [    6     8    12 ... 70988 70989 71000]\n",
      "Train: [    0     1     2 ... 70995 70998 71000] Validation: [    4     5     7 ... 70999 71001 71002]\n",
      "Train: [    0     1     4 ... 71000 71001 71002] Validation: [    2     3     9 ... 70971 70975 70986]\n",
      "Train: [    1     2     3 ... 71000 71001 71002] Validation: [    0     4    13 ... 70994 70996 70997]\n",
      "Train: [    0     1     2 ... 70997 70998 71002] Validation: [   14    21    27 ... 70999 71000 71001]\n",
      "Train: [    0     1     2 ... 71000 71001 71002] Validation: [    3    12    15 ... 70986 70992 70998]\n",
      "Train: [    0     3     4 ... 70999 71000 71001] Validation: [    1     2     5 ... 70991 70995 71002]\n",
      "Train: [    0     1     2 ... 71000 71001 71002] Validation: [    7    11    28 ... 70975 70978 70993]\n",
      "Train: [    0     1     2 ... 71000 71001 71002] Validation: [    8    21    26 ... 70979 70989 70995]\n",
      "Train: [    0     2     3 ... 71000 71001 71002] Validation: [    1     7     9 ... 70974 70975 70988]\n",
      "Train: [    1     2     3 ... 70998 70999 71001] Validation: [    0    10    17 ... 70997 71000 71002]\n",
      "Train: [    0     1     3 ... 71000 71001 71002] Validation: [    2     5    11 ... 70996 70998 70999]\n",
      "Train: [    0     1     2 ... 70999 71000 71002] Validation: [    3     4     6 ... 70992 70993 71001]\n",
      "Train: [    2     3     5 ... 71000 71001 71002] Validation: [    0     1     4 ... 70970 70973 70989]\n",
      "Train: [    0     1     2 ... 70998 70999 71002] Validation: [    3     9    12 ... 70982 71000 71001]\n",
      "Train: [    0     1     2 ... 71000 71001 71002] Validation: [    6    14    27 ... 70997 70998 70999]\n",
      "Train: [    0     1     3 ... 71000 71001 71002] Validation: [    2     8    17 ... 70988 70993 70996]\n",
      "Train: [    0     1     2 ... 70999 71000 71001] Validation: [    5    10    15 ... 70992 70994 71002]\n",
      "Train: [    0     1     2 ... 71000 71001 71002] Validation: [   10    14    15 ... 70974 70987 70988]\n",
      "Train: [    0     1     2 ... 70998 71000 71001] Validation: [    3     9    18 ... 70997 70999 71002]\n",
      "Train: [    1     3     4 ... 70999 71001 71002] Validation: [    0     2     6 ... 70995 70996 71000]\n",
      "Train: [    0     2     3 ... 71000 71001 71002] Validation: [    1     4     5 ... 70992 70994 70998]\n",
      "Train: [    0     1     2 ... 70999 71000 71002] Validation: [   11    17    22 ... 70972 70985 71001]\n",
      "Train: [    0     2     3 ... 71000 71001 71002] Validation: [    1     4     7 ... 70984 70992 70995]\n",
      "Train: [    1     2     3 ... 70999 71000 71001] Validation: [    0     9    10 ... 70993 70994 71002]\n",
      "Train: [    0     1     3 ... 70996 71001 71002] Validation: [    2     5     8 ... 70998 70999 71000]\n",
      "Train: [    0     1     2 ... 71000 71001 71002] Validation: [    6    15    20 ... 70988 70990 70991]\n",
      "Train: [    0     1     2 ... 70999 71000 71002] Validation: [    3    14    16 ... 70983 70996 71001]\n",
      "Train: [    1     2     3 ... 70999 71000 71002] Validation: [    0     6    11 ... 70990 70996 71001]\n",
      "Train: [    0     1     2 ... 70998 70999 71001] Validation: [    3     5    10 ... 70995 71000 71002]\n",
      "Train: [    0     2     3 ... 71000 71001 71002] Validation: [    1     4    13 ... 70992 70994 70997]\n",
      "Train: [    0     1     3 ... 71000 71001 71002] Validation: [    2     8    17 ... 70991 70993 70998]\n",
      "Train: [    0     1     2 ... 71000 71001 71002] Validation: [    7     9    12 ... 70976 70977 70999]\n",
      "Train: [    0     2     3 ... 71000 71001 71002] Validation: [    1     5    14 ... 70981 70990 70992]\n",
      "Train: [    0     1     2 ... 71000 71001 71002] Validation: [    4     8    18 ... 70978 70991 70997]\n",
      "Train: [    0     1     2 ... 71000 71001 71002] Validation: [    6    11    13 ... 70986 70989 70996]\n",
      "Train: [    1     4     5 ... 70999 71000 71002] Validation: [    0     2     3 ... 70995 70998 71001]\n",
      "Train: [    0     1     2 ... 70997 70998 71001] Validation: [    7    12    20 ... 70999 71000 71002]\n",
      "Train: [    0     1     3 ... 70999 71001 71002] Validation: [    2    28    29 ... 70977 70996 71000]\n",
      "Train: [    0     1     2 ... 70997 70999 71000] Validation: [    6     9    12 ... 70998 71001 71002]\n",
      "Train: [    1     2     3 ... 71000 71001 71002] Validation: [    0     5     7 ... 70989 70992 70993]\n",
      "Train: [    0     2     3 ... 71000 71001 71002] Validation: [    1     4    10 ... 70995 70997 70999]\n",
      "Train: [    0     1     2 ... 71000 71001 71002] Validation: [    3     8    19 ... 70983 70985 70990]\n"
     ]
    }
   ],
   "source": [
    "from sklearn.model_selection import RepeatedKFold\n",
    "\n",
    "kf = RepeatedKFold(n_splits=5, n_repeats=10, random_state=None) \n",
    "for train_index, test_index in kf.split(X):\n",
    "    print(\"Train:\", train_index, \"Validation:\",test_index)\n",
    "    X_train, X_test = X.iloc[train_index], X.iloc[test_index] \n",
    "    y_train, y_test = y.iloc[train_index], y.iloc[test_index]"
   ]
  },
  {
   "cell_type": "markdown",
   "metadata": {},
   "source": [
    "#### Create confusion matrix"
   ]
  },
  {
   "cell_type": "code",
   "execution_count": 12,
   "metadata": {},
   "outputs": [
    {
     "data": {
      "text/html": [
       "<div>\n",
       "<style scoped>\n",
       "    .dataframe tbody tr th:only-of-type {\n",
       "        vertical-align: middle;\n",
       "    }\n",
       "\n",
       "    .dataframe tbody tr th {\n",
       "        vertical-align: top;\n",
       "    }\n",
       "\n",
       "    .dataframe thead th {\n",
       "        text-align: right;\n",
       "    }\n",
       "</style>\n",
       "<table border=\"1\" class=\"dataframe\">\n",
       "  <thead>\n",
       "    <tr style=\"text-align: right;\">\n",
       "      <th>Predicted</th>\n",
       "      <th>0.41244877932663193</th>\n",
       "      <th>0.45621644638673475</th>\n",
       "      <th>0.5581061847466982</th>\n",
       "      <th>0.6018738518068011</th>\n",
       "      <th>0.7037635901667645</th>\n",
       "      <th>0.7475312572268673</th>\n",
       "      <th>0.8494209955868308</th>\n",
       "      <th>0.8931886626469336</th>\n",
       "      <th>0.9950784010068972</th>\n",
       "      <th>1.038846068067</th>\n",
       "    </tr>\n",
       "    <tr>\n",
       "      <th>Actual</th>\n",
       "      <th></th>\n",
       "      <th></th>\n",
       "      <th></th>\n",
       "      <th></th>\n",
       "      <th></th>\n",
       "      <th></th>\n",
       "      <th></th>\n",
       "      <th></th>\n",
       "      <th></th>\n",
       "      <th></th>\n",
       "    </tr>\n",
       "  </thead>\n",
       "  <tbody>\n",
       "    <tr>\n",
       "      <th>0</th>\n",
       "      <td>38</td>\n",
       "      <td>19</td>\n",
       "      <td>13</td>\n",
       "      <td>11</td>\n",
       "      <td>19</td>\n",
       "      <td>33</td>\n",
       "      <td>58</td>\n",
       "      <td>144</td>\n",
       "      <td>275</td>\n",
       "      <td>405</td>\n",
       "    </tr>\n",
       "    <tr>\n",
       "      <th>1</th>\n",
       "      <td>424</td>\n",
       "      <td>257</td>\n",
       "      <td>164</td>\n",
       "      <td>160</td>\n",
       "      <td>258</td>\n",
       "      <td>616</td>\n",
       "      <td>871</td>\n",
       "      <td>1842</td>\n",
       "      <td>3543</td>\n",
       "      <td>5050</td>\n",
       "    </tr>\n",
       "  </tbody>\n",
       "</table>\n",
       "</div>"
      ],
      "text/plain": [
       "Predicted  0.412449  0.456216  0.558106  0.601874  0.703764  0.747531  \\\n",
       "Actual                                                                  \n",
       "0                38        19        13        11        19        33   \n",
       "1               424       257       164       160       258       616   \n",
       "\n",
       "Predicted  0.849421  0.893189  0.995078  1.038846  \n",
       "Actual                                             \n",
       "0                58       144       275       405  \n",
       "1               871      1842      3543      5050  "
      ]
     },
     "execution_count": 12,
     "metadata": {},
     "output_type": "execute_result"
    }
   ],
   "source": [
    "pd.crosstab(y_test, predictions[:-1].copy(), rownames=['Actual'], colnames=['Predicted'])"
   ]
  },
  {
   "cell_type": "code",
   "execution_count": 13,
   "metadata": {},
   "outputs": [
    {
     "data": {
      "text/plain": [
       "(14200,)"
      ]
     },
     "execution_count": 13,
     "metadata": {},
     "output_type": "execute_result"
    }
   ],
   "source": [
    "predictions[:-1].copy().shape"
   ]
  },
  {
   "cell_type": "code",
   "execution_count": 14,
   "metadata": {
    "scrolled": true
   },
   "outputs": [
    {
     "data": {
      "text/plain": [
       "0        1\n",
       "1        1\n",
       "2        1\n",
       "3        0\n",
       "4        0\n",
       "5        0\n",
       "6        0\n",
       "7        0\n",
       "8        0\n",
       "9        0\n",
       "10       0\n",
       "11       0\n",
       "12       0\n",
       "13       0\n",
       "14       0\n",
       "15       0\n",
       "16       0\n",
       "17       0\n",
       "18       1\n",
       "19       0\n",
       "20       1\n",
       "21       1\n",
       "22       1\n",
       "23       1\n",
       "24       1\n",
       "25       1\n",
       "26       1\n",
       "27       1\n",
       "28       1\n",
       "29       1\n",
       "        ..\n",
       "70973    1\n",
       "70974    1\n",
       "70975    1\n",
       "70976    1\n",
       "70977    1\n",
       "70978    1\n",
       "70979    1\n",
       "70980    1\n",
       "70981    1\n",
       "70982    1\n",
       "70983    1\n",
       "70984    1\n",
       "70985    1\n",
       "70986    1\n",
       "70987    1\n",
       "70988    1\n",
       "70989    1\n",
       "70990    1\n",
       "70991    1\n",
       "70992    1\n",
       "70993    1\n",
       "70994    1\n",
       "70995    1\n",
       "70996    1\n",
       "70997    1\n",
       "70998    1\n",
       "70999    1\n",
       "71000    1\n",
       "71001    1\n",
       "71002    1\n",
       "Name: doRecommend, Length: 71003, dtype: int64"
      ]
     },
     "execution_count": 14,
     "metadata": {},
     "output_type": "execute_result"
    }
   ],
   "source": [
    "y"
   ]
  },
  {
   "cell_type": "code",
   "execution_count": null,
   "metadata": {},
   "outputs": [],
   "source": []
  }
 ],
 "metadata": {
  "kernelspec": {
   "display_name": "Python 3",
   "language": "python",
   "name": "python3"
  },
  "language_info": {
   "codemirror_mode": {
    "name": "ipython",
    "version": 3
   },
   "file_extension": ".py",
   "mimetype": "text/x-python",
   "name": "python",
   "nbconvert_exporter": "python",
   "pygments_lexer": "ipython3",
   "version": "3.6.4"
  }
 },
 "nbformat": 4,
 "nbformat_minor": 2
}
