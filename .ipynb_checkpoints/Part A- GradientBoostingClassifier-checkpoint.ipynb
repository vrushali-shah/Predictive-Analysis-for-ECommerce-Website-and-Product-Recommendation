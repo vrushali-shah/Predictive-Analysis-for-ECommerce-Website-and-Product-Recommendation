{
 "cells": [
  {
   "cell_type": "code",
   "execution_count": 1,
   "metadata": {},
   "outputs": [
    {
     "name": "stderr",
     "output_type": "stream",
     "text": [
      "C:\\Users\\Vrushali Shah\\Anaconda3\\lib\\site-packages\\sklearn\\cross_validation.py:41: DeprecationWarning: This module was deprecated in version 0.18 in favor of the model_selection module into which all the refactored classes and functions are moved. Also note that the interface of the new CV iterators are different from that of this module. This module will be removed in 0.20.\n",
      "  \"This module will be removed in 0.20.\", DeprecationWarning)\n"
     ]
    }
   ],
   "source": [
    "%matplotlib inline \n",
    "import matplotlib.pyplot as plt\n",
    "import numpy as np\n",
    "import pandas as pd\n",
    "from scipy import stats\n",
    "import seaborn as sns\n",
    "import warnings\n",
    "import random\n",
    "from datetime import datetime\n",
    "random.seed(datetime.now())\n",
    "warnings.filterwarnings('ignore')\n",
    "\n",
    "from matplotlib import style\n",
    "style.use(\"ggplot\")\n",
    "from sklearn import svm\n",
    "from sklearn.model_selection import GridSearchCV\n",
    "from sklearn import linear_model\n",
    "from sklearn.metrics import confusion_matrix\n",
    "from sklearn.metrics import classification_report\n",
    "\n",
    "from sklearn import cross_validation # used to test classifier\n",
    "from sklearn.cross_validation import KFold, cross_val_score, train_test_split\n",
    "from sklearn import metrics\n",
    "%matplotlib inline\n",
    "plt.rcParams['figure.figsize'] = (12,8)\n",
    "\n",
    "from sklearn import metrics\n",
    "from sklearn.preprocessing import StandardScaler\n",
    "from sklearn.neighbors import KNeighborsClassifier \n",
    "from sklearn.metrics import roc_curve # ROC Curves\n",
    "from sklearn.metrics import auc # Calculating AUC for ROC's!\n",
    "import warnings\n",
    "warnings.filterwarnings('ignore')\n"
   ]
  },
  {
   "cell_type": "code",
   "execution_count": null,
   "metadata": {},
   "outputs": [],
   "source": [
    "df = pd.read_csv(\"Replaced.csv\",encoding=\"ISO-8859-1\")"
   ]
  },
  {
   "cell_type": "markdown",
   "metadata": {},
   "source": [
    "#### Drop the columns which are not required and not useful for predictions"
   ]
  },
  {
   "cell_type": "code",
   "execution_count": 2,
   "metadata": {},
   "outputs": [
    {
     "data": {
      "text/html": [
       "<div>\n",
       "<style scoped>\n",
       "    .dataframe tbody tr th:only-of-type {\n",
       "        vertical-align: middle;\n",
       "    }\n",
       "\n",
       "    .dataframe tbody tr th {\n",
       "        vertical-align: top;\n",
       "    }\n",
       "\n",
       "    .dataframe thead th {\n",
       "        text-align: right;\n",
       "    }\n",
       "</style>\n",
       "<table border=\"1\" class=\"dataframe\">\n",
       "  <thead>\n",
       "    <tr style=\"text-align: right;\">\n",
       "      <th></th>\n",
       "      <th>id</th>\n",
       "      <th>ean</th>\n",
       "      <th>manufacturerNumber</th>\n",
       "      <th>didPurchase</th>\n",
       "      <th>doRecommend</th>\n",
       "      <th>reviews_id</th>\n",
       "      <th>reviews.numHelpful</th>\n",
       "      <th>rating</th>\n",
       "      <th>username</th>\n",
       "    </tr>\n",
       "  </thead>\n",
       "  <tbody>\n",
       "    <tr>\n",
       "      <th>0</th>\n",
       "      <td>AV13O1A8GV-KLJ3akUyj</td>\n",
       "      <td>6.03E+11</td>\n",
       "      <td>14331328</td>\n",
       "      <td>NaN</td>\n",
       "      <td>NaN</td>\n",
       "      <td>NaN</td>\n",
       "      <td>0.0</td>\n",
       "      <td>5</td>\n",
       "      <td>Joshua</td>\n",
       "    </tr>\n",
       "    <tr>\n",
       "      <th>1</th>\n",
       "      <td>AV14LG0R-jtxr-f38QfS</td>\n",
       "      <td>73416000391</td>\n",
       "      <td>574764</td>\n",
       "      <td>True</td>\n",
       "      <td>True</td>\n",
       "      <td>100209113.0</td>\n",
       "      <td>NaN</td>\n",
       "      <td>5</td>\n",
       "      <td>Dorothy W</td>\n",
       "    </tr>\n",
       "    <tr>\n",
       "      <th>2</th>\n",
       "      <td>AV14LG0R-jtxr-f38QfS</td>\n",
       "      <td>73416000391</td>\n",
       "      <td>574764</td>\n",
       "      <td>True</td>\n",
       "      <td>True</td>\n",
       "      <td>100209113.0</td>\n",
       "      <td>NaN</td>\n",
       "      <td>5</td>\n",
       "      <td>Dorothy W</td>\n",
       "    </tr>\n",
       "    <tr>\n",
       "      <th>3</th>\n",
       "      <td>AV16khLE-jtxr-f38VFn</td>\n",
       "      <td>67981934427</td>\n",
       "      <td>67981934427</td>\n",
       "      <td>False</td>\n",
       "      <td>False</td>\n",
       "      <td>113026909.0</td>\n",
       "      <td>NaN</td>\n",
       "      <td>1</td>\n",
       "      <td>Rebecca</td>\n",
       "    </tr>\n",
       "    <tr>\n",
       "      <th>4</th>\n",
       "      <td>AV16khLE-jtxr-f38VFn</td>\n",
       "      <td>67981934427</td>\n",
       "      <td>67981934427</td>\n",
       "      <td>False</td>\n",
       "      <td>False</td>\n",
       "      <td>171267657.0</td>\n",
       "      <td>NaN</td>\n",
       "      <td>1</td>\n",
       "      <td>Walker557</td>\n",
       "    </tr>\n",
       "  </tbody>\n",
       "</table>\n",
       "</div>"
      ],
      "text/plain": [
       "                     id          ean manufacturerNumber didPurchase  \\\n",
       "0  AV13O1A8GV-KLJ3akUyj     6.03E+11           14331328         NaN   \n",
       "1  AV14LG0R-jtxr-f38QfS  73416000391             574764        True   \n",
       "2  AV14LG0R-jtxr-f38QfS  73416000391             574764        True   \n",
       "3  AV16khLE-jtxr-f38VFn  67981934427        67981934427       False   \n",
       "4  AV16khLE-jtxr-f38VFn  67981934427        67981934427       False   \n",
       "\n",
       "  doRecommend   reviews_id  reviews.numHelpful  rating   username  \n",
       "0         NaN          NaN                 0.0       5     Joshua  \n",
       "1        True  100209113.0                 NaN       5  Dorothy W  \n",
       "2        True  100209113.0                 NaN       5  Dorothy W  \n",
       "3       False  113026909.0                 NaN       1    Rebecca  \n",
       "4       False  171267657.0                 NaN       1  Walker557  "
      ]
     },
     "execution_count": 2,
     "metadata": {},
     "output_type": "execute_result"
    }
   ],
   "source": [
    "drop_cols = ['Unnamed: 0','brand','categories','categories','dateAdded','dateUpdated','keys','manufacturer','name','reviewsdate','dateSeen','sourceURLs','text','title','userCity','upc','userProvince']\n",
    "df = df.drop(drop_cols,axis=1)\n",
    "\n",
    "df.head()"
   ]
  },
  {
   "cell_type": "markdown",
   "metadata": {},
   "source": [
    "#### Convert boolean values to binary values i.e. True to 1 and False to 0\n",
    "#### Fill the NaNs with suitable values"
   ]
  },
  {
   "cell_type": "code",
   "execution_count": 3,
   "metadata": {},
   "outputs": [],
   "source": [
    "df['didPurchase'].fillna(True, inplace=True)\n",
    "df['doRecommend'].fillna(True, inplace=True)\n",
    "\n",
    "df.didPurchase = (df.didPurchase)*1\n",
    "df.doRecommend = (df.doRecommend)*1\n",
    "\n",
    "df.fillna(0, inplace=True)"
   ]
  },
  {
   "cell_type": "markdown",
   "metadata": {},
   "source": [
    "#### Convert string values to integer values by hashing the column values"
   ]
  },
  {
   "cell_type": "code",
   "execution_count": 4,
   "metadata": {},
   "outputs": [
    {
     "data": {
      "text/html": [
       "<div>\n",
       "<style scoped>\n",
       "    .dataframe tbody tr th:only-of-type {\n",
       "        vertical-align: middle;\n",
       "    }\n",
       "\n",
       "    .dataframe tbody tr th {\n",
       "        vertical-align: top;\n",
       "    }\n",
       "\n",
       "    .dataframe thead th {\n",
       "        text-align: right;\n",
       "    }\n",
       "</style>\n",
       "<table border=\"1\" class=\"dataframe\">\n",
       "  <thead>\n",
       "    <tr style=\"text-align: right;\">\n",
       "      <th></th>\n",
       "      <th>id</th>\n",
       "      <th>ean</th>\n",
       "      <th>manufacturerNumber</th>\n",
       "      <th>didPurchase</th>\n",
       "      <th>doRecommend</th>\n",
       "      <th>reviews_id</th>\n",
       "      <th>reviews.numHelpful</th>\n",
       "      <th>rating</th>\n",
       "      <th>username</th>\n",
       "    </tr>\n",
       "  </thead>\n",
       "  <tbody>\n",
       "    <tr>\n",
       "      <th>0</th>\n",
       "      <td>815016927</td>\n",
       "      <td>6.03E+11</td>\n",
       "      <td>14331328</td>\n",
       "      <td>1</td>\n",
       "      <td>1</td>\n",
       "      <td>0.0</td>\n",
       "      <td>0.0</td>\n",
       "      <td>5</td>\n",
       "      <td>743012946</td>\n",
       "    </tr>\n",
       "    <tr>\n",
       "      <th>1</th>\n",
       "      <td>953502281</td>\n",
       "      <td>73416000391</td>\n",
       "      <td>574764</td>\n",
       "      <td>1</td>\n",
       "      <td>1</td>\n",
       "      <td>100209113.0</td>\n",
       "      <td>0.0</td>\n",
       "      <td>5</td>\n",
       "      <td>892130448</td>\n",
       "    </tr>\n",
       "    <tr>\n",
       "      <th>2</th>\n",
       "      <td>953502281</td>\n",
       "      <td>73416000391</td>\n",
       "      <td>574764</td>\n",
       "      <td>1</td>\n",
       "      <td>1</td>\n",
       "      <td>100209113.0</td>\n",
       "      <td>0.0</td>\n",
       "      <td>5</td>\n",
       "      <td>892130448</td>\n",
       "    </tr>\n",
       "    <tr>\n",
       "      <th>3</th>\n",
       "      <td>48238311</td>\n",
       "      <td>67981934427</td>\n",
       "      <td>67981934427</td>\n",
       "      <td>0</td>\n",
       "      <td>0</td>\n",
       "      <td>113026909.0</td>\n",
       "      <td>0.0</td>\n",
       "      <td>1</td>\n",
       "      <td>775542376</td>\n",
       "    </tr>\n",
       "    <tr>\n",
       "      <th>4</th>\n",
       "      <td>48238311</td>\n",
       "      <td>67981934427</td>\n",
       "      <td>67981934427</td>\n",
       "      <td>0</td>\n",
       "      <td>0</td>\n",
       "      <td>171267657.0</td>\n",
       "      <td>0.0</td>\n",
       "      <td>1</td>\n",
       "      <td>585166793</td>\n",
       "    </tr>\n",
       "  </tbody>\n",
       "</table>\n",
       "</div>"
      ],
      "text/plain": [
       "          id          ean manufacturerNumber  didPurchase  doRecommend  \\\n",
       "0  815016927     6.03E+11           14331328            1            1   \n",
       "1  953502281  73416000391             574764            1            1   \n",
       "2  953502281  73416000391             574764            1            1   \n",
       "3   48238311  67981934427        67981934427            0            0   \n",
       "4   48238311  67981934427        67981934427            0            0   \n",
       "\n",
       "    reviews_id  reviews.numHelpful  rating   username  \n",
       "0          0.0                 0.0       5  743012946  \n",
       "1  100209113.0                 0.0       5  892130448  \n",
       "2  100209113.0                 0.0       5  892130448  \n",
       "3  113026909.0                 0.0       1  775542376  \n",
       "4  171267657.0                 0.0       1  585166793  "
      ]
     },
     "execution_count": 4,
     "metadata": {},
     "output_type": "execute_result"
    }
   ],
   "source": [
    "def get_hash(x):\n",
    "  return abs(hash(x)) % 10**9\n",
    "df['username'] = df['username'].apply(get_hash)\n",
    "df['id'] = df['id'].apply(get_hash)\n",
    "\n",
    "df.head()"
   ]
  },
  {
   "cell_type": "markdown",
   "metadata": {},
   "source": [
    "#### Scale the column values"
   ]
  },
  {
   "cell_type": "code",
   "execution_count": 10,
   "metadata": {},
   "outputs": [],
   "source": [
    "def scaled_df(df):\n",
    "    scaled = pd.DataFrame()\n",
    "    for item in df:\n",
    "        if item in df.select_dtypes(include=[np.float]):\n",
    "            scaled[item] = ((df[item] - df[item].min()) / \n",
    "            (df[item].max() - df[item].min()))\n",
    "        else: \n",
    "            scaled[item] = df[item]\n",
    "    return scaled\n",
    "df_scaled = scaled_df(df)"
   ]
  },
  {
   "cell_type": "markdown",
   "metadata": {},
   "source": [
    "#### Set predictor columns to determine the results"
   ]
  },
  {
   "cell_type": "code",
   "execution_count": 11,
   "metadata": {},
   "outputs": [
    {
     "data": {
      "text/plain": [
       "['id', 'didPurchase', 'username', 'rating']"
      ]
     },
     "execution_count": 11,
     "metadata": {},
     "output_type": "execute_result"
    }
   ],
   "source": [
    "predictor_names=['id','didPurchase','username','rating']\n",
    "predictor_names"
   ]
  },
  {
   "cell_type": "markdown",
   "metadata": {},
   "source": [
    "#### Find Rank for each of the predictor columns"
   ]
  },
  {
   "cell_type": "code",
   "execution_count": 12,
   "metadata": {},
   "outputs": [
    {
     "data": {
      "text/plain": [
       "{'didPurchase': 1.0,\n",
       " 'id': 0.04017787014062463,\n",
       " 'rating': 0.6,\n",
       " 'username': 0.002091840679263104}"
      ]
     },
     "execution_count": 12,
     "metadata": {},
     "output_type": "execute_result"
    }
   ],
   "source": [
    "def rank_predictors(dat,l,f='doRecommend'):\n",
    "    rank={}\n",
    "    max_vals=dat.max()\n",
    "    median_vals=dat.groupby(f).median()  # We are using the median as the mean is sensitive to outliers\n",
    "    for p in l:\n",
    "        score=np.abs((median_vals[p][1]-median_vals[p][0])/max_vals[p])\n",
    "        rank[p]=score\n",
    "    return rank\n",
    "cat_rank=rank_predictors(df,predictor_names) \n",
    "cat_rank"
   ]
  },
  {
   "cell_type": "markdown",
   "metadata": {},
   "source": [
    "#### Sort the predictors by rank"
   ]
  },
  {
   "cell_type": "code",
   "execution_count": 13,
   "metadata": {},
   "outputs": [
    {
     "data": {
      "text/plain": [
       "[('username', 0.002091840679263104),\n",
       " ('id', 0.04017787014062463),\n",
       " ('rating', 0.6),\n",
       " ('didPurchase', 1.0)]"
      ]
     },
     "execution_count": 13,
     "metadata": {},
     "output_type": "execute_result"
    }
   ],
   "source": [
    "cat_rank=sorted(cat_rank.items(), key=lambda x: x[1])\n",
    "cat_rank"
   ]
  },
  {
   "cell_type": "markdown",
   "metadata": {},
   "source": [
    "#### Take the top predictors based on median difference"
   ]
  },
  {
   "cell_type": "code",
   "execution_count": 14,
   "metadata": {},
   "outputs": [
    {
     "data": {
      "text/plain": [
       "['id', 'rating', 'didPurchase']"
      ]
     },
     "execution_count": 14,
     "metadata": {},
     "output_type": "execute_result"
    }
   ],
   "source": [
    "ranked_predictors=[]\n",
    "for f in cat_rank[1:]:\n",
    "    ranked_predictors.append(f[0])\n",
    "ranked_predictors"
   ]
  },
  {
   "cell_type": "code",
   "execution_count": 15,
   "metadata": {},
   "outputs": [],
   "source": [
    "X = df_scaled[predictor_names]\n",
    "#setting target\n",
    "y = df_scaled['doRecommend']"
   ]
  },
  {
   "cell_type": "markdown",
   "metadata": {},
   "source": [
    "#### dividing data to have a training and a testing set"
   ]
  },
  {
   "cell_type": "code",
   "execution_count": 19,
   "metadata": {},
   "outputs": [],
   "source": [
    "X_train_sub, X_validation_sub, y_train_sub, y_validation_sub = train_test_split(X, y, test_size= .4,random_state=0)"
   ]
  },
  {
   "cell_type": "code",
   "execution_count": 20,
   "metadata": {},
   "outputs": [],
   "source": [
    "# import machine learning algorithms\n",
    "from sklearn.ensemble import GradientBoostingClassifier\n",
    "from sklearn.metrics import classification_report, confusion_matrix, roc_curve, auc"
   ]
  },
  {
   "cell_type": "markdown",
   "metadata": {},
   "source": [
    "### train with Gradient Boosting algorithm\n",
    "### compute the accuracy scores on train and validation sets when training with different learning rates"
   ]
  },
  {
   "cell_type": "code",
   "execution_count": 21,
   "metadata": {},
   "outputs": [
    {
     "name": "stdout",
     "output_type": "stream",
     "text": [
      "Learning rate:  0.05\n",
      "Accuracy score (training): 0.933\n",
      "Accuracy score (validation): 0.930\n",
      "\n",
      "Learning rate:  0.1\n",
      "Accuracy score (training): 0.960\n",
      "Accuracy score (validation): 0.959\n",
      "\n",
      "Learning rate:  0.25\n",
      "Accuracy score (training): 0.962\n",
      "Accuracy score (validation): 0.960\n",
      "\n",
      "Learning rate:  0.5\n",
      "Accuracy score (training): 0.965\n",
      "Accuracy score (validation): 0.964\n",
      "\n",
      "Learning rate:  0.75\n",
      "Accuracy score (training): 0.940\n",
      "Accuracy score (validation): 0.939\n",
      "\n",
      "Learning rate:  1\n",
      "Accuracy score (training): 0.965\n",
      "Accuracy score (validation): 0.964\n",
      "\n"
     ]
    }
   ],
   "source": [
    "learning_rates = [0.05, 0.1, 0.25, 0.5, 0.75, 1]\n",
    "for learning_rate in learning_rates:\n",
    "    gb = GradientBoostingClassifier(n_estimators=20, learning_rate = learning_rate, max_features=2, max_depth = 2, random_state = 0)\n",
    "    gb.fit(X_train_sub, y_train_sub)\n",
    "    print(\"Learning rate: \", learning_rate)\n",
    "    print(\"Accuracy score (training): {0:.3f}\".format(gb.score(X_train_sub, y_train_sub)))\n",
    "    print(\"Accuracy score (validation): {0:.3f}\".format(gb.score(X_validation_sub, y_validation_sub)))\n",
    "    print()"
   ]
  },
  {
   "cell_type": "markdown",
   "metadata": {},
   "source": [
    "### Changing hyper-parameter values changes the accuracy score of predictions with maximum accuracy of ~96.5%."
   ]
  },
  {
   "cell_type": "code",
   "execution_count": null,
   "metadata": {},
   "outputs": [],
   "source": []
  }
 ],
 "metadata": {
  "kernelspec": {
   "display_name": "Python 3",
   "language": "python",
   "name": "python3"
  },
  "language_info": {
   "codemirror_mode": {
    "name": "ipython",
    "version": 3
   },
   "file_extension": ".py",
   "mimetype": "text/x-python",
   "name": "python",
   "nbconvert_exporter": "python",
   "pygments_lexer": "ipython3",
   "version": "3.6.4"
  }
 },
 "nbformat": 4,
 "nbformat_minor": 2
}
