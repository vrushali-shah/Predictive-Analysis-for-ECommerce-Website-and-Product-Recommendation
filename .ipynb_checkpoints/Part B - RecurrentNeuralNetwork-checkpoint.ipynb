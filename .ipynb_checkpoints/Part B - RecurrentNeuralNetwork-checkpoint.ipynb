{
 "cells": [
  {
   "cell_type": "code",
   "execution_count": 1,
   "metadata": {},
   "outputs": [
    {
     "name": "stderr",
     "output_type": "stream",
     "text": [
      "Using TensorFlow backend.\n"
     ]
    }
   ],
   "source": [
    "import warnings\n",
    "warnings.filterwarnings('ignore')\n",
    "import pandas as pd\n",
    "import numpy as np\n",
    "import pickle\n",
    "import matplotlib.pyplot as plt\n",
    "from scipy import stats\n",
    "import tensorflow as tf\n",
    "import seaborn as sns\n",
    "from pylab import rcParams\n",
    "from sklearn.model_selection import train_test_split\n",
    "from keras.preprocessing import sequence\n",
    "from keras.models import Sequential\n",
    "from keras.layers import Input, Dense, LSTM\n",
    "from keras.callbacks import ModelCheckpoint, TensorBoard\n",
    "from keras import regularizers\n",
    "%matplotlib inline\n",
    "from keras.layers.core import Flatten\n",
    "from keras.layers.core import Dense\n",
    "sns.set(style='whitegrid', palette='muted', font_scale=1.5)\n",
    "rcParams['figure.figsize'] = 14, 8"
   ]
  },
  {
   "cell_type": "code",
   "execution_count": 2,
   "metadata": {},
   "outputs": [],
   "source": [
    "df = pd.read_csv(\"training.csv\")"
   ]
  },
  {
   "cell_type": "code",
   "execution_count": 3,
   "metadata": {},
   "outputs": [
    {
     "data": {
      "text/html": [
       "<div>\n",
       "<style scoped>\n",
       "    .dataframe tbody tr th:only-of-type {\n",
       "        vertical-align: middle;\n",
       "    }\n",
       "\n",
       "    .dataframe tbody tr th {\n",
       "        vertical-align: top;\n",
       "    }\n",
       "\n",
       "    .dataframe thead th {\n",
       "        text-align: right;\n",
       "    }\n",
       "</style>\n",
       "<table border=\"1\" class=\"dataframe\">\n",
       "  <thead>\n",
       "    <tr style=\"text-align: right;\">\n",
       "      <th></th>\n",
       "      <th>Unnamed: 0</th>\n",
       "      <th>Unnamed: 0.1</th>\n",
       "      <th>id</th>\n",
       "      <th>brand</th>\n",
       "      <th>categories</th>\n",
       "      <th>dateAdded</th>\n",
       "      <th>dateUpdated</th>\n",
       "      <th>ean</th>\n",
       "      <th>keys</th>\n",
       "      <th>manufacturer</th>\n",
       "      <th>...</th>\n",
       "      <th>reviews_id</th>\n",
       "      <th>reviews.numHelpful</th>\n",
       "      <th>rating</th>\n",
       "      <th>sourceURLs</th>\n",
       "      <th>text</th>\n",
       "      <th>title</th>\n",
       "      <th>userCity</th>\n",
       "      <th>userProvince</th>\n",
       "      <th>username</th>\n",
       "      <th>upc</th>\n",
       "    </tr>\n",
       "  </thead>\n",
       "  <tbody>\n",
       "    <tr>\n",
       "      <th>0</th>\n",
       "      <td>33641</td>\n",
       "      <td>33668</td>\n",
       "      <td>824085496</td>\n",
       "      <td>Disney</td>\n",
       "      <td>Movies, Music &amp; Books,Ways To Shop Entertainme...</td>\n",
       "      <td>2016-12-28T22:31:24Z</td>\n",
       "      <td>2018-02-05T08:36:37Z</td>\n",
       "      <td>NaN</td>\n",
       "      <td>786936850628,disney/50978083,junglebookblurayd...</td>\n",
       "      <td>Buena Vista</td>\n",
       "      <td>...</td>\n",
       "      <td>NaN</td>\n",
       "      <td>0.0</td>\n",
       "      <td>5</td>\n",
       "      <td>http://reviews.bestbuy.com/3545/5094600/review...</td>\n",
       "      <td>Visually this is fantastic &amp; it stays true to ...</td>\n",
       "      <td>The live action version of a classic.</td>\n",
       "      <td>UK</td>\n",
       "      <td>NaN</td>\n",
       "      <td>539861276</td>\n",
       "      <td>7.87E+11</td>\n",
       "    </tr>\n",
       "    <tr>\n",
       "      <th>1</th>\n",
       "      <td>25378</td>\n",
       "      <td>25395</td>\n",
       "      <td>646672850</td>\n",
       "      <td>Warner Home Video</td>\n",
       "      <td>Movies, Music &amp; Books,Movies,Action &amp; Adventur...</td>\n",
       "      <td>2016-07-26T21:32:40Z</td>\n",
       "      <td>2018-02-05T10:22:44Z</td>\n",
       "      <td>NaN</td>\n",
       "      <td>warnerhomevideo/15773884,883929388448,godzilla...</td>\n",
       "      <td>Test</td>\n",
       "      <td>...</td>\n",
       "      <td>NaN</td>\n",
       "      <td>0.0</td>\n",
       "      <td>5</td>\n",
       "      <td>http://reviews.bestbuy.com/3545/6435036/review...</td>\n",
       "      <td>Finally! A Godzilla movie that was made true t...</td>\n",
       "      <td>The best Godzilla movie we have been waiting for!</td>\n",
       "      <td>UK</td>\n",
       "      <td>NaN</td>\n",
       "      <td>585122015</td>\n",
       "      <td>8.84E+11</td>\n",
       "    </tr>\n",
       "    <tr>\n",
       "      <th>2</th>\n",
       "      <td>50575</td>\n",
       "      <td>50608</td>\n",
       "      <td>114557595</td>\n",
       "      <td>Tide</td>\n",
       "      <td>Household Essentials,Ways To Shop,Household Es...</td>\n",
       "      <td>2015-10-29T11:28:10Z</td>\n",
       "      <td>2018-02-05T08:35:12Z</td>\n",
       "      <td>NaN</td>\n",
       "      <td>037000138822,tide/13918059,tideoriginalscentli...</td>\n",
       "      <td>Procter &amp; Gamble</td>\n",
       "      <td>...</td>\n",
       "      <td>NaN</td>\n",
       "      <td>NaN</td>\n",
       "      <td>5</td>\n",
       "      <td>https://redsky.target.com/groot-domain-api/v1/...</td>\n",
       "      <td>Waited until I washed my husbands white dress ...</td>\n",
       "      <td>Impressed!</td>\n",
       "      <td>China</td>\n",
       "      <td>NaN</td>\n",
       "      <td>647011901</td>\n",
       "      <td>37000138822</td>\n",
       "    </tr>\n",
       "    <tr>\n",
       "      <th>3</th>\n",
       "      <td>47514</td>\n",
       "      <td>47547</td>\n",
       "      <td>246140130</td>\n",
       "      <td>Neutrogena</td>\n",
       "      <td>Personal Care,Medicine Cabinet,Skin Fading/Lig...</td>\n",
       "      <td>2015-11-06T13:51:37Z</td>\n",
       "      <td>2018-02-05T11:28:49Z</td>\n",
       "      <td>NaN</td>\n",
       "      <td>070501110362,neutrogenarapidtonerepairdarkspot...</td>\n",
       "      <td>Neutrogena</td>\n",
       "      <td>...</td>\n",
       "      <td>97088378.0</td>\n",
       "      <td>NaN</td>\n",
       "      <td>5</td>\n",
       "      <td>https://www.walmart.com/reviews/product/350433...</td>\n",
       "      <td>Riding through the desert with cowboys, and ju...</td>\n",
       "      <td>Turn Back Time</td>\n",
       "      <td>China</td>\n",
       "      <td>NaN</td>\n",
       "      <td>116075470</td>\n",
       "      <td>70,501,110,362,885,100,000,000</td>\n",
       "    </tr>\n",
       "    <tr>\n",
       "      <th>4</th>\n",
       "      <td>26556</td>\n",
       "      <td>26573</td>\n",
       "      <td>133127652</td>\n",
       "      <td>Ragu</td>\n",
       "      <td>Food,Packaged Foods,Condiments, Dips, &amp; Salad ...</td>\n",
       "      <td>2015-10-23T06:36:30Z</td>\n",
       "      <td>2018-02-05T11:25:54Z</td>\n",
       "      <td>36200014011</td>\n",
       "      <td>ragutraditionalpastasauce/b0035n3ads,ragutradi...</td>\n",
       "      <td>Unilever</td>\n",
       "      <td>...</td>\n",
       "      <td>107524410.0</td>\n",
       "      <td>0.0</td>\n",
       "      <td>5</td>\n",
       "      <td>https://www.walmart.com/reviews/product/10291073</td>\n",
       "      <td>This is how i like my sauce, if i want eat veg...</td>\n",
       "      <td>This is great sauxce and cheap</td>\n",
       "      <td>Japan</td>\n",
       "      <td>NaN</td>\n",
       "      <td>555800904</td>\n",
       "      <td>36200014011</td>\n",
       "    </tr>\n",
       "  </tbody>\n",
       "</table>\n",
       "<p>5 rows × 26 columns</p>\n",
       "</div>"
      ],
      "text/plain": [
       "   Unnamed: 0  Unnamed: 0.1         id              brand  \\\n",
       "0       33641         33668  824085496             Disney   \n",
       "1       25378         25395  646672850  Warner Home Video   \n",
       "2       50575         50608  114557595               Tide   \n",
       "3       47514         47547  246140130         Neutrogena   \n",
       "4       26556         26573  133127652               Ragu   \n",
       "\n",
       "                                          categories             dateAdded  \\\n",
       "0  Movies, Music & Books,Ways To Shop Entertainme...  2016-12-28T22:31:24Z   \n",
       "1  Movies, Music & Books,Movies,Action & Adventur...  2016-07-26T21:32:40Z   \n",
       "2  Household Essentials,Ways To Shop,Household Es...  2015-10-29T11:28:10Z   \n",
       "3  Personal Care,Medicine Cabinet,Skin Fading/Lig...  2015-11-06T13:51:37Z   \n",
       "4  Food,Packaged Foods,Condiments, Dips, & Salad ...  2015-10-23T06:36:30Z   \n",
       "\n",
       "            dateUpdated          ean  \\\n",
       "0  2018-02-05T08:36:37Z          NaN   \n",
       "1  2018-02-05T10:22:44Z          NaN   \n",
       "2  2018-02-05T08:35:12Z          NaN   \n",
       "3  2018-02-05T11:28:49Z          NaN   \n",
       "4  2018-02-05T11:25:54Z  36200014011   \n",
       "\n",
       "                                                keys      manufacturer  \\\n",
       "0  786936850628,disney/50978083,junglebookblurayd...       Buena Vista   \n",
       "1  warnerhomevideo/15773884,883929388448,godzilla...              Test   \n",
       "2  037000138822,tide/13918059,tideoriginalscentli...  Procter & Gamble   \n",
       "3  070501110362,neutrogenarapidtonerepairdarkspot...        Neutrogena   \n",
       "4  ragutraditionalpastasauce/b0035n3ads,ragutradi...          Unilever   \n",
       "\n",
       "                ...                 reviews_id reviews.numHelpful rating  \\\n",
       "0               ...                        NaN                0.0      5   \n",
       "1               ...                        NaN                0.0      5   \n",
       "2               ...                        NaN                NaN      5   \n",
       "3               ...                 97088378.0                NaN      5   \n",
       "4               ...                107524410.0                0.0      5   \n",
       "\n",
       "                                          sourceURLs  \\\n",
       "0  http://reviews.bestbuy.com/3545/5094600/review...   \n",
       "1  http://reviews.bestbuy.com/3545/6435036/review...   \n",
       "2  https://redsky.target.com/groot-domain-api/v1/...   \n",
       "3  https://www.walmart.com/reviews/product/350433...   \n",
       "4   https://www.walmart.com/reviews/product/10291073   \n",
       "\n",
       "                                                text  \\\n",
       "0  Visually this is fantastic & it stays true to ...   \n",
       "1  Finally! A Godzilla movie that was made true t...   \n",
       "2  Waited until I washed my husbands white dress ...   \n",
       "3  Riding through the desert with cowboys, and ju...   \n",
       "4  This is how i like my sauce, if i want eat veg...   \n",
       "\n",
       "                                               title  userCity  userProvince  \\\n",
       "0              The live action version of a classic.        UK           NaN   \n",
       "1  The best Godzilla movie we have been waiting for!        UK           NaN   \n",
       "2                                         Impressed!     China           NaN   \n",
       "3                                     Turn Back Time     China           NaN   \n",
       "4                     This is great sauxce and cheap     Japan           NaN   \n",
       "\n",
       "    username                             upc  \n",
       "0  539861276                        7.87E+11  \n",
       "1  585122015                        8.84E+11  \n",
       "2  647011901                     37000138822  \n",
       "3  116075470  70,501,110,362,885,100,000,000  \n",
       "4  555800904                     36200014011  \n",
       "\n",
       "[5 rows x 26 columns]"
      ]
     },
     "execution_count": 3,
     "metadata": {},
     "output_type": "execute_result"
    }
   ],
   "source": [
    "df.head()"
   ]
  },
  {
   "cell_type": "markdown",
   "metadata": {},
   "source": [
    "Converting boolean values of didPurchase and doRecommend column of data to 0 or 1 for both training data and test data.\n",
    "True is replaced by 1 and False is replaced by 0 for."
   ]
  },
  {
   "cell_type": "markdown",
   "metadata": {},
   "source": [
    "Taking only 10000 rows from both train and test data"
   ]
  },
  {
   "cell_type": "code",
   "execution_count": 4,
   "metadata": {},
   "outputs": [],
   "source": [
    "df.didPurchase = (df.didPurchase)*1\n",
    "df.doRecommend = (df.doRecommend)*1"
   ]
  },
  {
   "cell_type": "code",
   "execution_count": 5,
   "metadata": {},
   "outputs": [],
   "source": [
    "df['didPurchase'] = df['didPurchase'].fillna(1)\n",
    "df['doRecommend'] = df['doRecommend'].fillna(1)"
   ]
  },
  {
   "cell_type": "code",
   "execution_count": 6,
   "metadata": {},
   "outputs": [
    {
     "data": {
      "text/plain": [
       "(10000, 3)"
      ]
     },
     "execution_count": 6,
     "metadata": {},
     "output_type": "execute_result"
    }
   ],
   "source": [
    "training_set = df[['rating','doRecommend','didPurchase']]\n",
    "training_set=training_set.iloc[0:10000,:]\n",
    "training_set.shape"
   ]
  },
  {
   "cell_type": "code",
   "execution_count": 7,
   "metadata": {},
   "outputs": [],
   "source": [
    "df = pd.read_csv(\"test.csv\")"
   ]
  },
  {
   "cell_type": "code",
   "execution_count": 8,
   "metadata": {},
   "outputs": [],
   "source": [
    "df.didPurchase = (df.didPurchase)*1\n",
    "df.doRecommend = (df.doRecommend)*1"
   ]
  },
  {
   "cell_type": "code",
   "execution_count": 9,
   "metadata": {},
   "outputs": [],
   "source": [
    "df['didPurchase'] = df['didPurchase'].fillna(1)\n",
    "df['doRecommend'] = df['doRecommend'].fillna(1)"
   ]
  },
  {
   "cell_type": "code",
   "execution_count": 10,
   "metadata": {},
   "outputs": [
    {
     "data": {
      "text/plain": [
       "(10000, 3)"
      ]
     },
     "execution_count": 10,
     "metadata": {},
     "output_type": "execute_result"
    }
   ],
   "source": [
    "test_set = df[['rating','doRecommend','didPurchase']]\n",
    "test_set=test_set.iloc[0:10000,:]\n",
    "test_set.shape"
   ]
  },
  {
   "cell_type": "code",
   "execution_count": 11,
   "metadata": {},
   "outputs": [],
   "source": [
    "# Getting the inputs and the ouputs\n",
    "x_train =  training_set[['rating','didPurchase']]\n",
    "y_train = training_set[['doRecommend']]"
   ]
  },
  {
   "cell_type": "markdown",
   "metadata": {},
   "source": [
    "### Sequential model is used for Recurrent Neural Network. \n",
    "<b>You can create a Sequential model by passing a list of layer instances to the constructor</b>"
   ]
  },
  {
   "cell_type": "markdown",
   "metadata": {},
   "source": [
    "Reshaping the x_train and y_train to fit in RNN model"
   ]
  },
  {
   "cell_type": "code",
   "execution_count": 12,
   "metadata": {},
   "outputs": [
    {
     "name": "stdout",
     "output_type": "stream",
     "text": [
      "(10000, 2, 1)\n"
     ]
    }
   ],
   "source": [
    "# Reshaping\n",
    "x_train = x_train.values.reshape(10000,2,1)\n",
    "print(x_train.shape)"
   ]
  },
  {
   "cell_type": "markdown",
   "metadata": {},
   "source": [
    "We have used LSTM (Long Short term Memory Networks) which is a special kind of RNN which are designed to avoid Long term dependency problem"
   ]
  },
  {
   "cell_type": "code",
   "execution_count": 13,
   "metadata": {},
   "outputs": [],
   "source": [
    "#Initialising the RNN model\n",
    "regressor = Sequential()"
   ]
  },
  {
   "cell_type": "code",
   "execution_count": 14,
   "metadata": {},
   "outputs": [],
   "source": [
    "# Adding the input layer and the LSTM layer\n",
    "regressor.add(LSTM(12, activation='relu', input_shape=(None,1)))\n",
    "regressor.add(Dense(8, activation='softmax'))\n",
    "# Adding the output layer\n",
    "regressor.add(Dense(1))\n",
    "\n",
    "# Compiling the RNN\n",
    "regressor.compile(optimizer='adam', loss='mean_squared_error')"
   ]
  },
  {
   "cell_type": "code",
   "execution_count": 15,
   "metadata": {},
   "outputs": [
    {
     "name": "stdout",
     "output_type": "stream",
     "text": [
      "Epoch 1/100\n",
      "10000/10000 [==============================] - 1s 130us/step - loss: 0.5023\n",
      "Epoch 2/100\n",
      "10000/10000 [==============================] - 1s 54us/step - loss: 0.0373\n",
      "Epoch 3/100\n",
      "10000/10000 [==============================] - 1s 70us/step - loss: 0.0371\n",
      "Epoch 4/100\n",
      "10000/10000 [==============================] - 1s 70us/step - loss: 0.0369\n",
      "Epoch 5/100\n",
      "10000/10000 [==============================] - 1s 62us/step - loss: 0.0366\n",
      "Epoch 6/100\n",
      "10000/10000 [==============================] - 1s 69us/step - loss: 0.0364\n",
      "Epoch 7/100\n",
      "10000/10000 [==============================] - 1s 66us/step - loss: 0.0361\n",
      "Epoch 8/100\n",
      "10000/10000 [==============================] - 0s 48us/step - loss: 0.0357\n",
      "Epoch 9/100\n",
      "10000/10000 [==============================] - 0s 48us/step - loss: 0.0355\n",
      "Epoch 10/100\n",
      "10000/10000 [==============================] - 0s 49us/step - loss: 0.0354\n",
      "Epoch 11/100\n",
      "10000/10000 [==============================] - 0s 49us/step - loss: 0.0353\n",
      "Epoch 12/100\n",
      "10000/10000 [==============================] - 1s 53us/step - loss: 0.0353\n",
      "Epoch 13/100\n",
      "10000/10000 [==============================] - 1s 63us/step - loss: 0.0351\n",
      "Epoch 14/100\n",
      "10000/10000 [==============================] - 1s 62us/step - loss: 0.0350\n",
      "Epoch 15/100\n",
      "10000/10000 [==============================] - 1s 59us/step - loss: 0.0349\n",
      "Epoch 16/100\n",
      "10000/10000 [==============================] - 1s 65us/step - loss: 0.0347\n",
      "Epoch 17/100\n",
      "10000/10000 [==============================] - 1s 65us/step - loss: 0.0346\n",
      "Epoch 18/100\n",
      "10000/10000 [==============================] - 1s 55us/step - loss: 0.0346\n",
      "Epoch 19/100\n",
      "10000/10000 [==============================] - 1s 55us/step - loss: 0.0344\n",
      "Epoch 20/100\n",
      "10000/10000 [==============================] - 1s 65us/step - loss: 0.0344\n",
      "Epoch 21/100\n",
      "10000/10000 [==============================] - 1s 60us/step - loss: 0.0342\n",
      "Epoch 22/100\n",
      "10000/10000 [==============================] - 1s 54us/step - loss: 0.0342\n",
      "Epoch 23/100\n",
      "10000/10000 [==============================] - 1s 55us/step - loss: 0.0341\n",
      "Epoch 24/100\n",
      "10000/10000 [==============================] - 1s 55us/step - loss: 0.0340\n",
      "Epoch 25/100\n",
      "10000/10000 [==============================] - 1s 56us/step - loss: 0.0340\n",
      "Epoch 26/100\n",
      "10000/10000 [==============================] - 1s 55us/step - loss: 0.0339\n",
      "Epoch 27/100\n",
      "10000/10000 [==============================] - 1s 65us/step - loss: 0.0339\n",
      "Epoch 28/100\n",
      "10000/10000 [==============================] - 1s 62us/step - loss: 0.0338\n",
      "Epoch 29/100\n",
      "10000/10000 [==============================] - 1s 67us/step - loss: 0.0337\n",
      "Epoch 30/100\n",
      "10000/10000 [==============================] - 1s 72us/step - loss: 0.0337\n",
      "Epoch 31/100\n",
      "10000/10000 [==============================] - 1s 73us/step - loss: 0.0337\n",
      "Epoch 32/100\n",
      "10000/10000 [==============================] - 1s 76us/step - loss: 0.0335\n",
      "Epoch 33/100\n",
      "10000/10000 [==============================] - 1s 66us/step - loss: 0.0336\n",
      "Epoch 34/100\n",
      "10000/10000 [==============================] - 1s 73us/step - loss: 0.0334\n",
      "Epoch 35/100\n",
      "10000/10000 [==============================] - 1s 62us/step - loss: 0.0335\n",
      "Epoch 36/100\n",
      "10000/10000 [==============================] - 1s 72us/step - loss: 0.0334\n",
      "Epoch 37/100\n",
      "10000/10000 [==============================] - 1s 79us/step - loss: 0.0333\n",
      "Epoch 38/100\n",
      "10000/10000 [==============================] - 1s 70us/step - loss: 0.0333\n",
      "Epoch 39/100\n",
      "10000/10000 [==============================] - 1s 70us/step - loss: 0.0334\n",
      "Epoch 40/100\n",
      "10000/10000 [==============================] - 1s 68us/step - loss: 0.0333\n",
      "Epoch 41/100\n",
      "10000/10000 [==============================] - 1s 66us/step - loss: 0.0333\n",
      "Epoch 42/100\n",
      "10000/10000 [==============================] - 1s 67us/step - loss: 0.0333\n",
      "Epoch 43/100\n",
      "10000/10000 [==============================] - 1s 64us/step - loss: 0.0332\n",
      "Epoch 44/100\n",
      "10000/10000 [==============================] - 1s 53us/step - loss: 0.0332\n",
      "Epoch 45/100\n",
      "10000/10000 [==============================] - 1s 71us/step - loss: 0.0331\n",
      "Epoch 46/100\n",
      "10000/10000 [==============================] - 1s 62us/step - loss: 0.0332\n",
      "Epoch 47/100\n",
      "10000/10000 [==============================] - 1s 60us/step - loss: 0.0331\n",
      "Epoch 48/100\n",
      "10000/10000 [==============================] - 1s 67us/step - loss: 0.0331\n",
      "Epoch 49/100\n",
      "10000/10000 [==============================] - 1s 67us/step - loss: 0.0331\n",
      "Epoch 50/100\n",
      "10000/10000 [==============================] - 1s 53us/step - loss: 0.0331\n",
      "Epoch 51/100\n",
      "10000/10000 [==============================] - 1s 55us/step - loss: 0.0330\n",
      "Epoch 52/100\n",
      "10000/10000 [==============================] - 1s 57us/step - loss: 0.0331\n",
      "Epoch 53/100\n",
      "10000/10000 [==============================] - 1s 58us/step - loss: 0.0330\n",
      "Epoch 54/100\n",
      "10000/10000 [==============================] - 1s 64us/step - loss: 0.0331\n",
      "Epoch 55/100\n",
      "10000/10000 [==============================] - 1s 57us/step - loss: 0.0330\n",
      "Epoch 56/100\n",
      "10000/10000 [==============================] - 1s 59us/step - loss: 0.0330\n",
      "Epoch 57/100\n",
      "10000/10000 [==============================] - 1s 73us/step - loss: 0.0330\n",
      "Epoch 58/100\n",
      "10000/10000 [==============================] - 1s 54us/step - loss: 0.0330\n",
      "Epoch 59/100\n",
      "10000/10000 [==============================] - 1s 51us/step - loss: 0.0330\n",
      "Epoch 60/100\n",
      "10000/10000 [==============================] - 1s 55us/step - loss: 0.0329\n",
      "Epoch 61/100\n",
      "10000/10000 [==============================] - 1s 62us/step - loss: 0.0330\n",
      "Epoch 62/100\n",
      "10000/10000 [==============================] - 1s 67us/step - loss: 0.0330\n",
      "Epoch 63/100\n",
      "10000/10000 [==============================] - 1s 58us/step - loss: 0.0329\n",
      "Epoch 64/100\n",
      "10000/10000 [==============================] - 1s 62us/step - loss: 0.0330\n",
      "Epoch 65/100\n",
      "10000/10000 [==============================] - 1s 56us/step - loss: 0.0329\n",
      "Epoch 66/100\n",
      "10000/10000 [==============================] - 1s 56us/step - loss: 0.0329\n",
      "Epoch 67/100\n",
      "10000/10000 [==============================] - 1s 57us/step - loss: 0.0329\n",
      "Epoch 68/100\n",
      "10000/10000 [==============================] - 1s 55us/step - loss: 0.0330\n",
      "Epoch 69/100\n",
      "10000/10000 [==============================] - 1s 60us/step - loss: 0.0329\n",
      "Epoch 70/100\n",
      "10000/10000 [==============================] - 0s 50us/step - loss: 0.0328\n",
      "Epoch 71/100\n",
      "10000/10000 [==============================] - 1s 54us/step - loss: 0.0329\n",
      "Epoch 72/100\n",
      "10000/10000 [==============================] - 1s 67us/step - loss: 0.0329\n",
      "Epoch 73/100\n",
      "10000/10000 [==============================] - 1s 51us/step - loss: 0.0329\n",
      "Epoch 74/100\n",
      "10000/10000 [==============================] - 1s 51us/step - loss: 0.0328: 0s - loss: \n",
      "Epoch 75/100\n",
      "10000/10000 [==============================] - 0s 49us/step - loss: 0.0329\n",
      "Epoch 76/100\n",
      "10000/10000 [==============================] - 1s 52us/step - loss: 0.0329\n",
      "Epoch 77/100\n",
      "10000/10000 [==============================] - 0s 49us/step - loss: 0.0327\n",
      "Epoch 78/100\n",
      "10000/10000 [==============================] - 0s 49us/step - loss: 0.0328\n",
      "Epoch 79/100\n",
      "10000/10000 [==============================] - 1s 50us/step - loss: 0.0329\n",
      "Epoch 80/100\n",
      "10000/10000 [==============================] - 0s 48us/step - loss: 0.0330\n",
      "Epoch 81/100\n",
      "10000/10000 [==============================] - 1s 51us/step - loss: 0.0329\n",
      "Epoch 82/100\n",
      "10000/10000 [==============================] - 1s 55us/step - loss: 0.0329\n",
      "Epoch 83/100\n",
      "10000/10000 [==============================] - 1s 50us/step - loss: 0.0328\n",
      "Epoch 84/100\n",
      "10000/10000 [==============================] - 1s 60us/step - loss: 0.0328\n",
      "Epoch 85/100\n",
      "10000/10000 [==============================] - 1s 54us/step - loss: 0.0329\n",
      "Epoch 86/100\n",
      "10000/10000 [==============================] - 0s 48us/step - loss: 0.0328\n",
      "Epoch 87/100\n",
      "10000/10000 [==============================] - 1s 54us/step - loss: 0.0329\n",
      "Epoch 88/100\n",
      "10000/10000 [==============================] - 0s 49us/step - loss: 0.0327\n",
      "Epoch 89/100\n",
      "10000/10000 [==============================] - 0s 49us/step - loss: 0.0328\n",
      "Epoch 90/100\n",
      "10000/10000 [==============================] - 1s 52us/step - loss: 0.0328\n",
      "Epoch 91/100\n",
      "10000/10000 [==============================] - 1s 51us/step - loss: 0.0327\n",
      "Epoch 92/100\n",
      "10000/10000 [==============================] - 1s 58us/step - loss: 0.0329\n",
      "Epoch 93/100\n",
      "10000/10000 [==============================] - 1s 53us/step - loss: 0.0328\n",
      "Epoch 94/100\n"
     ]
    },
    {
     "name": "stdout",
     "output_type": "stream",
     "text": [
      "10000/10000 [==============================] - 1s 57us/step - loss: 0.0328\n",
      "Epoch 95/100\n",
      "10000/10000 [==============================] - 1s 76us/step - loss: 0.0326\n",
      "Epoch 96/100\n",
      "10000/10000 [==============================] - 1s 74us/step - loss: 0.0327\n",
      "Epoch 97/100\n",
      "10000/10000 [==============================] - 1s 55us/step - loss: 0.0328\n",
      "Epoch 98/100\n",
      "10000/10000 [==============================] - 1s 50us/step - loss: 0.0328\n",
      "Epoch 99/100\n",
      "10000/10000 [==============================] - 1s 56us/step - loss: 0.0328\n",
      "Epoch 100/100\n",
      "10000/10000 [==============================] - 1s 55us/step - loss: 0.0327\n"
     ]
    },
    {
     "data": {
      "text/plain": [
       "<keras.callbacks.History at 0x232f04dcda0>"
      ]
     },
     "execution_count": 15,
     "metadata": {},
     "output_type": "execute_result"
    }
   ],
   "source": [
    "# Fitting the RNN to the Training set\n",
    "regressor.fit(x_train, y_train, batch_size=50, epochs=100)"
   ]
  },
  {
   "cell_type": "code",
   "execution_count": 16,
   "metadata": {},
   "outputs": [
    {
     "name": "stdout",
     "output_type": "stream",
     "text": [
      "10000/10000 [==============================] - 0s 42us/step\n",
      "\n",
      "['loss']: 3.29%\n"
     ]
    }
   ],
   "source": [
    "# evaluate the model\n",
    "scores = regressor.evaluate(x_train, y_train)\n",
    "print(\"\\n%s: %.2f%%\" % (regressor.metrics_names, scores*100))"
   ]
  },
  {
   "cell_type": "code",
   "execution_count": 17,
   "metadata": {},
   "outputs": [
    {
     "name": "stdout",
     "output_type": "stream",
     "text": [
      "Accuracy is 95.510%\n",
      "RMSE = 0.17970979586103103\n"
     ]
    }
   ],
   "source": [
    "from sklearn.metrics import accuracy_score\n",
    "import math\n",
    "from sklearn.metrics import mean_squared_error\n",
    "test_data =test_set[['rating','didPurchase']].values.reshape((-1, 2, 1))\n",
    "test_label = test_set[['doRecommend']]\n",
    "predicted_data = regressor.predict(test_data,)\n",
    "accuracy=accuracy_score(test_label,np.round(predicted_data))\n",
    "print(\"Accuracy is %.3f%%\" % (accuracy*100))\n",
    "rmse = math.sqrt(mean_squared_error(test_label, predicted_data))\n",
    "print(\"RMSE =\", rmse)"
   ]
  },
  {
   "cell_type": "markdown",
   "metadata": {},
   "source": [
    "## RNN using LSTM layer, we are able to achieve ~95.5% accuracy with an RMSE of ~0.179"
   ]
  },
  {
   "cell_type": "code",
   "execution_count": 18,
   "metadata": {},
   "outputs": [],
   "source": [
    "count=[]\n",
    "for i in range(len(predicted_data)):\n",
    "    if(np.round(predicted_data[i])==test_label.values[i]):\n",
    "        count.append(\"Correctly predicted\")\n",
    "    else:\n",
    "        count.append(\"Incorrectly predicted\")"
   ]
  },
  {
   "cell_type": "code",
   "execution_count": 19,
   "metadata": {},
   "outputs": [
    {
     "name": "stdout",
     "output_type": "stream",
     "text": [
      "Correctly predicted: 9551\n",
      "Incorrectly predicted: 449\n"
     ]
    },
    {
     "data": {
      "image/png": "[encoded data removed]",
      "text/plain": [
       "<matplotlib.figure.Figure at 0x232f06a92b0>"
      ]
     },
     "metadata": {},
     "output_type": "display_data"
    }
   ],
   "source": [
    "import seaborn as sns\n",
    "sns.set(style=\"darkgrid\")\n",
    "sns.countplot(x=count,palette=\"Set2\")\n",
    "print(\"Correctly predicted: %i\" % count.count(\"Correctly predicted\"))\n",
    "print(\"Incorrectly predicted: %i\" % count.count(\"Incorrectly predicted\"))"
   ]
  },
  {
   "cell_type": "markdown",
   "metadata": {},
   "source": [
    "****\n",
    "### Simple RNN"
   ]
  },
  {
   "cell_type": "markdown",
   "metadata": {},
   "source": [
    "Using SimpleRNN to check the loss % and compare with LSTM "
   ]
  },
  {
   "cell_type": "code",
   "execution_count": 20,
   "metadata": {},
   "outputs": [],
   "source": [
    "from keras.layers.recurrent import SimpleRNN\n",
    "from keras.layers import Dropout"
   ]
  },
  {
   "cell_type": "code",
   "execution_count": 21,
   "metadata": {},
   "outputs": [],
   "source": [
    "# Adding the input layer and the LSTM layer\n",
    "# input_shape=(None, 1) = input_shape=(timestep_count, features_count)\n",
    "model = Sequential()\n",
    "model.add(SimpleRNN(128,input_shape = (None,1)))\n",
    "# Adding the output layer\n",
    "model.add(Dropout(0.5))\n",
    "model.add(Dense(1, activation='sigmoid',kernel_initializer='uniform'))\n",
    "\n",
    "# Compiling the RNN\n",
    "model.compile(optimizer='adam', loss='binary_crossentropy')"
   ]
  },
  {
   "cell_type": "code",
   "execution_count": 22,
   "metadata": {},
   "outputs": [
    {
     "name": "stdout",
     "output_type": "stream",
     "text": [
      "Epoch 1/100\n",
      "10000/10000 [==============================] - 1s 97us/step - loss: 0.1782\n",
      "Epoch 2/100\n",
      "10000/10000 [==============================] - 0s 42us/step - loss: 0.1351\n",
      "Epoch 3/100\n",
      "10000/10000 [==============================] - 0s 42us/step - loss: 0.1336\n",
      "Epoch 4/100\n",
      "10000/10000 [==============================] - 1s 54us/step - loss: 0.1323\n",
      "Epoch 5/100\n",
      "10000/10000 [==============================] - 1s 58us/step - loss: 0.1325\n",
      "Epoch 6/100\n",
      "10000/10000 [==============================] - 1s 61us/step - loss: 0.1316\n",
      "Epoch 7/100\n",
      "10000/10000 [==============================] - 1s 57us/step - loss: 0.1318\n",
      "Epoch 8/100\n",
      "10000/10000 [==============================] - 1s 53us/step - loss: 0.1309\n",
      "Epoch 9/100\n",
      "10000/10000 [==============================] - 1s 58us/step - loss: 0.1301\n",
      "Epoch 10/100\n",
      "10000/10000 [==============================] - 1s 64us/step - loss: 0.1293\n",
      "Epoch 11/100\n",
      "10000/10000 [==============================] - 1s 58us/step - loss: 0.1291\n",
      "Epoch 12/100\n",
      "10000/10000 [==============================] - 1s 55us/step - loss: 0.1281\n",
      "Epoch 13/100\n",
      "10000/10000 [==============================] - 1s 55us/step - loss: 0.1272\n",
      "Epoch 14/100\n",
      "10000/10000 [==============================] - 1s 55us/step - loss: 0.1268\n",
      "Epoch 15/100\n",
      "10000/10000 [==============================] - 1s 52us/step - loss: 0.1257\n",
      "Epoch 16/100\n",
      "10000/10000 [==============================] - 1s 54us/step - loss: 0.1248\n",
      "Epoch 17/100\n",
      "10000/10000 [==============================] - 1s 57us/step - loss: 0.1243\n",
      "Epoch 18/100\n",
      "10000/10000 [==============================] - 1s 55us/step - loss: 0.1232\n",
      "Epoch 19/100\n",
      "10000/10000 [==============================] - 1s 55us/step - loss: 0.1223\n",
      "Epoch 20/100\n",
      "10000/10000 [==============================] - 1s 58us/step - loss: 0.1209\n",
      "Epoch 21/100\n",
      "10000/10000 [==============================] - 1s 54us/step - loss: 0.1212\n",
      "Epoch 22/100\n",
      "10000/10000 [==============================] - 1s 55us/step - loss: 0.1214\n",
      "Epoch 23/100\n",
      "10000/10000 [==============================] - 1s 55us/step - loss: 0.1206\n",
      "Epoch 24/100\n",
      "10000/10000 [==============================] - 1s 55us/step - loss: 0.1209\n",
      "Epoch 25/100\n",
      "10000/10000 [==============================] - 1s 65us/step - loss: 0.1203\n",
      "Epoch 26/100\n",
      "10000/10000 [==============================] - 1s 54us/step - loss: 0.1193\n",
      "Epoch 27/100\n",
      "10000/10000 [==============================] - 1s 55us/step - loss: 0.1197\n",
      "Epoch 28/100\n",
      "10000/10000 [==============================] - 1s 54us/step - loss: 0.1210\n",
      "Epoch 29/100\n",
      "10000/10000 [==============================] - 1s 50us/step - loss: 0.1192\n",
      "Epoch 30/100\n",
      "10000/10000 [==============================] - 1s 53us/step - loss: 0.1189\n",
      "Epoch 31/100\n",
      "10000/10000 [==============================] - 1s 53us/step - loss: 0.1192\n",
      "Epoch 32/100\n",
      "10000/10000 [==============================] - 1s 52us/step - loss: 0.1202\n",
      "Epoch 33/100\n",
      "10000/10000 [==============================] - 1s 61us/step - loss: 0.1196\n",
      "Epoch 34/100\n",
      "10000/10000 [==============================] - 1s 53us/step - loss: 0.1199\n",
      "Epoch 35/100\n",
      "10000/10000 [==============================] - 1s 53us/step - loss: 0.1185\n",
      "Epoch 36/100\n",
      "10000/10000 [==============================] - 1s 51us/step - loss: 0.1181\n",
      "Epoch 37/100\n",
      "10000/10000 [==============================] - 1s 51us/step - loss: 0.1185\n",
      "Epoch 38/100\n",
      "10000/10000 [==============================] - 1s 56us/step - loss: 0.1198\n",
      "Epoch 39/100\n",
      "10000/10000 [==============================] - 1s 55us/step - loss: 0.1190: 0s - loss: 0.117\n",
      "Epoch 40/100\n",
      "10000/10000 [==============================] - 1s 55us/step - loss: 0.1198\n",
      "Epoch 41/100\n",
      "10000/10000 [==============================] - 1s 51us/step - loss: 0.1216\n",
      "Epoch 42/100\n",
      "10000/10000 [==============================] - 1s 54us/step - loss: 0.1194\n",
      "Epoch 43/100\n",
      "10000/10000 [==============================] - 1s 52us/step - loss: 0.1177\n",
      "Epoch 44/100\n",
      "10000/10000 [==============================] - 1s 54us/step - loss: 0.1189\n",
      "Epoch 45/100\n",
      "10000/10000 [==============================] - 0s 43us/step - loss: 0.1185\n",
      "Epoch 46/100\n",
      "10000/10000 [==============================] - 0s 43us/step - loss: 0.1197\n",
      "Epoch 47/100\n",
      "10000/10000 [==============================] - 0s 43us/step - loss: 0.1202\n",
      "Epoch 48/100\n",
      "10000/10000 [==============================] - 0s 43us/step - loss: 0.1199\n",
      "Epoch 49/100\n",
      "10000/10000 [==============================] - 1s 51us/step - loss: 0.1185\n",
      "Epoch 50/100\n",
      "10000/10000 [==============================] - 0s 45us/step - loss: 0.1194\n",
      "Epoch 51/100\n",
      "10000/10000 [==============================] - 0s 45us/step - loss: 0.1184\n",
      "Epoch 52/100\n",
      "10000/10000 [==============================] - 0s 43us/step - loss: 0.1186\n",
      "Epoch 53/100\n",
      "10000/10000 [==============================] - 0s 43us/step - loss: 0.1193\n",
      "Epoch 54/100\n",
      "10000/10000 [==============================] - 0s 42us/step - loss: 0.1194\n",
      "Epoch 55/100\n",
      "10000/10000 [==============================] - 0s 43us/step - loss: 0.1187\n",
      "Epoch 56/100\n",
      "10000/10000 [==============================] - 0s 45us/step - loss: 0.1206\n",
      "Epoch 57/100\n",
      "10000/10000 [==============================] - 0s 42us/step - loss: 0.1183\n",
      "Epoch 58/100\n",
      "10000/10000 [==============================] - 0s 42us/step - loss: 0.1190\n",
      "Epoch 59/100\n",
      "10000/10000 [==============================] - 0s 46us/step - loss: 0.1192\n",
      "Epoch 60/100\n",
      "10000/10000 [==============================] - 0s 44us/step - loss: 0.1177\n",
      "Epoch 61/100\n",
      "10000/10000 [==============================] - 0s 45us/step - loss: 0.1188\n",
      "Epoch 62/100\n",
      "10000/10000 [==============================] - 0s 50us/step - loss: 0.1187\n",
      "Epoch 63/100\n",
      "10000/10000 [==============================] - 1s 51us/step - loss: 0.1186\n",
      "Epoch 64/100\n",
      "10000/10000 [==============================] - 1s 50us/step - loss: 0.1181\n",
      "Epoch 65/100\n",
      "10000/10000 [==============================] - 1s 50us/step - loss: 0.1190\n",
      "Epoch 66/100\n",
      "10000/10000 [==============================] - 1s 56us/step - loss: 0.1175\n",
      "Epoch 67/100\n",
      "10000/10000 [==============================] - 1s 52us/step - loss: 0.1195\n",
      "Epoch 68/100\n",
      "10000/10000 [==============================] - 0s 49us/step - loss: 0.1176\n",
      "Epoch 69/100\n",
      "10000/10000 [==============================] - 1s 50us/step - loss: 0.1187\n",
      "Epoch 70/100\n",
      "10000/10000 [==============================] - 0s 48us/step - loss: 0.1192\n",
      "Epoch 71/100\n",
      "10000/10000 [==============================] - 0s 49us/step - loss: 0.1192\n",
      "Epoch 72/100\n",
      "10000/10000 [==============================] - 0s 49us/step - loss: 0.1176\n",
      "Epoch 73/100\n",
      "10000/10000 [==============================] - 0s 49us/step - loss: 0.1200\n",
      "Epoch 74/100\n",
      "10000/10000 [==============================] - 0s 49us/step - loss: 0.1183\n",
      "Epoch 75/100\n",
      "10000/10000 [==============================] - 0s 48us/step - loss: 0.1177\n",
      "Epoch 76/100\n",
      "10000/10000 [==============================] - 0s 50us/step - loss: 0.1192\n",
      "Epoch 77/100\n",
      "10000/10000 [==============================] - 1s 54us/step - loss: 0.1176: 0s - loss: 0.118\n",
      "Epoch 78/100\n",
      "10000/10000 [==============================] - 0s 49us/step - loss: 0.1177\n",
      "Epoch 79/100\n",
      "10000/10000 [==============================] - 0s 48us/step - loss: 0.1182\n",
      "Epoch 80/100\n",
      "10000/10000 [==============================] - 0s 49us/step - loss: 0.1168\n",
      "Epoch 81/100\n",
      "10000/10000 [==============================] - 0s 49us/step - loss: 0.1185\n",
      "Epoch 82/100\n",
      "10000/10000 [==============================] - 0s 49us/step - loss: 0.1202\n",
      "Epoch 83/100\n",
      "10000/10000 [==============================] - 0s 47us/step - loss: 0.1183\n",
      "Epoch 84/100\n",
      "10000/10000 [==============================] - 0s 47us/step - loss: 0.1184\n",
      "Epoch 85/100\n",
      "10000/10000 [==============================] - 0s 48us/step - loss: 0.1184\n",
      "Epoch 86/100\n",
      "10000/10000 [==============================] - 0s 49us/step - loss: 0.1182\n",
      "Epoch 87/100\n",
      "10000/10000 [==============================] - 0s 48us/step - loss: 0.1171\n",
      "Epoch 88/100\n",
      "10000/10000 [==============================] - 0s 48us/step - loss: 0.1203\n",
      "Epoch 89/100\n",
      "10000/10000 [==============================] - 0s 49us/step - loss: 0.1182\n",
      "Epoch 90/100\n",
      "10000/10000 [==============================] - 0s 48us/step - loss: 0.1185\n",
      "Epoch 91/100\n",
      "10000/10000 [==============================] - 0s 48us/step - loss: 0.1182\n",
      "Epoch 92/100\n",
      "10000/10000 [==============================] - 1s 51us/step - loss: 0.1183\n",
      "Epoch 93/100\n",
      "10000/10000 [==============================] - 0s 44us/step - loss: 0.1173\n",
      "Epoch 94/100\n",
      "10000/10000 [==============================] - 0s 43us/step - loss: 0.1170\n",
      "Epoch 95/100\n",
      "10000/10000 [==============================] - 0s 44us/step - loss: 0.1170\n",
      "Epoch 96/100\n",
      "10000/10000 [==============================] - 0s 44us/step - loss: 0.1177\n",
      "Epoch 97/100\n",
      "10000/10000 [==============================] - 0s 43us/step - loss: 0.1170\n",
      "Epoch 98/100\n",
      "10000/10000 [==============================] - 0s 43us/step - loss: 0.1176\n",
      "Epoch 99/100\n",
      "10000/10000 [==============================] - 0s 43us/step - loss: 0.1176\n",
      "Epoch 100/100\n",
      "10000/10000 [==============================] - 0s 42us/step - loss: 0.1175\n"
     ]
    },
    {
     "data": {
      "text/plain": [
       "<keras.callbacks.History at 0x232f0649c18>"
      ]
     },
     "execution_count": 22,
     "metadata": {},
     "output_type": "execute_result"
    }
   ],
   "source": [
    "model.fit(x_train, y_train, batch_size=50, epochs=100)"
   ]
  },
  {
   "cell_type": "code",
   "execution_count": 23,
   "metadata": {},
   "outputs": [
    {
     "name": "stdout",
     "output_type": "stream",
     "text": [
      "10000/10000 [==============================] - 0s 32us/step\n",
      "\n",
      "['loss']: 11.62%\n"
     ]
    }
   ],
   "source": [
    "# evaluate the model\n",
    "scores = model.evaluate(x_train, y_train)\n",
    "print(\"\\n%s: %.2f%%\" % (model.metrics_names, scores*100))"
   ]
  },
  {
   "cell_type": "code",
   "execution_count": 24,
   "metadata": {},
   "outputs": [
    {
     "name": "stdout",
     "output_type": "stream",
     "text": [
      "Accuracy is 95.510%\n",
      "RMSE = 0.18597023320461148\n"
     ]
    }
   ],
   "source": [
    "predicted_data = model.predict(test_data,)\n",
    "accuracy=accuracy_score(test_label,np.round(predicted_data))\n",
    "print(\"Accuracy is %.3f%%\" % (accuracy*100))\n",
    "rmse = math.sqrt(mean_squared_error(test_label, predicted_data))\n",
    "print(\"RMSE =\", rmse)"
   ]
  },
  {
   "cell_type": "markdown",
   "metadata": {},
   "source": [
    "## Using SimpleRNN we are able to achieve ~94% accuracy with an RMSE of 0.18"
   ]
  },
  {
   "cell_type": "code",
   "execution_count": null,
   "metadata": {},
   "outputs": [],
   "source": []
  }
 ],
 "metadata": {
  "kernelspec": {
   "display_name": "Python 3",
   "language": "python",
   "name": "python3"
  },
  "language_info": {
   "codemirror_mode": {
    "name": "ipython",
    "version": 3
   },
   "file_extension": ".py",
   "mimetype": "text/x-python",
   "name": "python",
   "nbconvert_exporter": "python",
   "pygments_lexer": "ipython3",
   "version": "3.6.4"
  }
 },
 "nbformat": 4,
 "nbformat_minor": 2
}
