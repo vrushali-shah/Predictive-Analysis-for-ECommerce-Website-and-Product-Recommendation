{
 "cells": [
  {
   "cell_type": "code",
   "execution_count": 1,
   "metadata": {},
   "outputs": [
    {
     "name": "stderr",
     "output_type": "stream",
     "text": [
      "C:\\Users\\Vrushali Shah\\Anaconda3\\lib\\site-packages\\statsmodels\\compat\\pandas.py:56: FutureWarning: The pandas.core.datetools module is deprecated and will be removed in a future version. Please use the pandas.tseries module instead.\n",
      "  from pandas.core import datetools\n"
     ]
    }
   ],
   "source": [
    "%matplotlib inline\n",
    "from collections import Counter\n",
    "import random\n",
    "\n",
    "import numpy as np\n",
    "import matplotlib.pyplot as plt\n",
    "import pandas as pd\n",
    "import seaborn as sns\n",
    "from scipy.stats import multivariate_normal\n",
    "from sklearn import datasets, linear_model\n",
    "from sklearn.model_selection import train_test_split\n",
    "import statsmodels.api as sm # import statsmodels \n",
    "from statsmodels.formula.api import ols\n"
   ]
  },
  {
   "cell_type": "code",
   "execution_count": 2,
   "metadata": {},
   "outputs": [],
   "source": [
    "df = pd.read_csv(\"Replaced.csv\",encoding=\"ISO-8859-1\")"
   ]
  },
  {
   "cell_type": "code",
   "execution_count": 3,
   "metadata": {},
   "outputs": [
    {
     "data": {
      "text/plain": [
       "Index(['Unnamed: 0', 'id', 'brand', 'categories', 'dateAdded', 'dateUpdated',\n",
       "       'ean', 'keys', 'manufacturer', 'manufacturerNumber', 'name',\n",
       "       'reviewsdate', 'dateSeen', 'didPurchase', 'doRecommend', 'reviews_id',\n",
       "       'reviews.numHelpful', 'rating', 'sourceURLs', 'text', 'title',\n",
       "       'userCity', 'userProvince', 'username', 'upc'],\n",
       "      dtype='object')"
      ]
     },
     "execution_count": 3,
     "metadata": {},
     "output_type": "execute_result"
    }
   ],
   "source": [
    "df.columns"
   ]
  },
  {
   "cell_type": "markdown",
   "metadata": {},
   "source": [
    "#### Convert boolean values to binary values i.e. True to 1 and False to 0"
   ]
  },
  {
   "cell_type": "code",
   "execution_count": 4,
   "metadata": {},
   "outputs": [],
   "source": [
    "df.didPurchase = (df.didPurchase)*1\n",
    "df.doRecommend = (df.doRecommend)*1\n",
    "\n",
    "df['doRecommend'] = df['doRecommend'].fillna(1)\n",
    "df['didPurchase'] = df['didPurchase'].fillna(1)"
   ]
  },
  {
   "cell_type": "code",
   "execution_count": 5,
   "metadata": {},
   "outputs": [
    {
     "data": {
      "text/plain": [
       "dtype('int64')"
      ]
     },
     "execution_count": 5,
     "metadata": {},
     "output_type": "execute_result"
    }
   ],
   "source": [
    "df.doRecommend.dtype"
   ]
  },
  {
   "cell_type": "markdown",
   "metadata": {},
   "source": [
    "#### Set predictor columns to determine and evaluate the results"
   ]
  },
  {
   "cell_type": "code",
   "execution_count": 6,
   "metadata": {},
   "outputs": [
    {
     "data": {
      "text/html": [
       "<table class=\"simpletable\">\n",
       "<caption>OLS Regression Results</caption>\n",
       "<tr>\n",
       "  <th>Dep. Variable:</th>       <td>doRecommend</td>   <th>  R-squared:         </th>  <td>   0.396</td> \n",
       "</tr>\n",
       "<tr>\n",
       "  <th>Model:</th>                   <td>OLS</td>       <th>  Adj. R-squared:    </th>  <td>   0.396</td> \n",
       "</tr>\n",
       "<tr>\n",
       "  <th>Method:</th>             <td>Least Squares</td>  <th>  F-statistic:       </th>  <td>2.323e+04</td>\n",
       "</tr>\n",
       "<tr>\n",
       "  <th>Date:</th>             <td>Fri, 17 Aug 2018</td> <th>  Prob (F-statistic):</th>   <td>  0.00</td>  \n",
       "</tr>\n",
       "<tr>\n",
       "  <th>Time:</th>                 <td>16:51:14</td>     <th>  Log-Likelihood:    </th>  <td>  14960.</td> \n",
       "</tr>\n",
       "<tr>\n",
       "  <th>No. Observations:</th>      <td> 71003</td>      <th>  AIC:               </th> <td>-2.991e+04</td>\n",
       "</tr>\n",
       "<tr>\n",
       "  <th>Df Residuals:</th>          <td> 71000</td>      <th>  BIC:               </th> <td>-2.989e+04</td>\n",
       "</tr>\n",
       "<tr>\n",
       "  <th>Df Model:</th>              <td>     2</td>      <th>                     </th>      <td> </td>    \n",
       "</tr>\n",
       "<tr>\n",
       "  <th>Covariance Type:</th>      <td>nonrobust</td>    <th>                     </th>      <td> </td>    \n",
       "</tr>\n",
       "</table>\n",
       "<table class=\"simpletable\">\n",
       "<tr>\n",
       "       <td></td>          <th>coef</th>     <th>std err</th>      <th>t</th>      <th>P>|t|</th>  <th>[0.025</th>    <th>0.975]</th>  \n",
       "</tr>\n",
       "<tr>\n",
       "  <th>const</th>       <td>    0.2638</td> <td>    0.003</td> <td>   82.334</td> <td> 0.000</td> <td>    0.258</td> <td>    0.270</td>\n",
       "</tr>\n",
       "<tr>\n",
       "  <th>didPurchase</th> <td>    0.0435</td> <td>    0.002</td> <td>   28.957</td> <td> 0.000</td> <td>    0.041</td> <td>    0.046</td>\n",
       "</tr>\n",
       "<tr>\n",
       "  <th>rating</th>      <td>    0.1464</td> <td>    0.001</td> <td>  212.057</td> <td> 0.000</td> <td>    0.145</td> <td>    0.148</td>\n",
       "</tr>\n",
       "</table>\n",
       "<table class=\"simpletable\">\n",
       "<tr>\n",
       "  <th>Omnibus:</th>       <td>21851.970</td> <th>  Durbin-Watson:     </th>  <td>   1.042</td> \n",
       "</tr>\n",
       "<tr>\n",
       "  <th>Prob(Omnibus):</th>  <td> 0.000</td>   <th>  Jarque-Bera (JB):  </th> <td>135317.736</td>\n",
       "</tr>\n",
       "<tr>\n",
       "  <th>Skew:</th>           <td>-1.339</td>   <th>  Prob(JB):          </th>  <td>    0.00</td> \n",
       "</tr>\n",
       "<tr>\n",
       "  <th>Kurtosis:</th>       <td> 9.210</td>   <th>  Cond. No.          </th>  <td>    20.8</td> \n",
       "</tr>\n",
       "</table>"
      ],
      "text/plain": [
       "<class 'statsmodels.iolib.summary.Summary'>\n",
       "\"\"\"\n",
       "                            OLS Regression Results                            \n",
       "==============================================================================\n",
       "Dep. Variable:            doRecommend   R-squared:                       0.396\n",
       "Model:                            OLS   Adj. R-squared:                  0.396\n",
       "Method:                 Least Squares   F-statistic:                 2.323e+04\n",
       "Date:                Fri, 17 Aug 2018   Prob (F-statistic):               0.00\n",
       "Time:                        16:51:14   Log-Likelihood:                 14960.\n",
       "No. Observations:               71003   AIC:                        -2.991e+04\n",
       "Df Residuals:                   71000   BIC:                        -2.989e+04\n",
       "Df Model:                           2                                         \n",
       "Covariance Type:            nonrobust                                         \n",
       "===============================================================================\n",
       "                  coef    std err          t      P>|t|      [0.025      0.975]\n",
       "-------------------------------------------------------------------------------\n",
       "const           0.2638      0.003     82.334      0.000       0.258       0.270\n",
       "didPurchase     0.0435      0.002     28.957      0.000       0.041       0.046\n",
       "rating          0.1464      0.001    212.057      0.000       0.145       0.148\n",
       "==============================================================================\n",
       "Omnibus:                    21851.970   Durbin-Watson:                   1.042\n",
       "Prob(Omnibus):                  0.000   Jarque-Bera (JB):           135317.736\n",
       "Skew:                          -1.339   Prob(JB):                         0.00\n",
       "Kurtosis:                       9.210   Cond. No.                         20.8\n",
       "==============================================================================\n",
       "\n",
       "Warnings:\n",
       "[1] Standard Errors assume that the covariance matrix of the errors is correctly specified.\n",
       "\"\"\""
      ]
     },
     "execution_count": 6,
     "metadata": {},
     "output_type": "execute_result"
    },
    {
     "data": {
      "image/png": "[encoded data removed]",
      "text/plain": [
       "<matplotlib.figure.Figure at 0x1ba9d70c780>"
      ]
     },
     "metadata": {},
     "output_type": "display_data"
    }
   ],
   "source": [
    "X=df[['didPurchase','rating']]\n",
    "y=df['doRecommend']\n",
    "X = sm.add_constant(X) \n",
    "sns.pairplot(df, x_vars=['didPurchase','rating',], y_vars=[\"doRecommend\"], size=5, aspect=.8, kind=\"reg\");\n",
    "\n",
    "\n",
    "# Fit the linear model\n",
    "model = linear_model.LinearRegression()\n",
    "results = model.fit(X, y)\n",
    "\n",
    "model = sm.OLS(y, X)\n",
    "results = model.fit()\n",
    "\n",
    "# Statsmodels gives R-like statistical output\n",
    "results.summary()"
   ]
  },
  {
   "cell_type": "markdown",
   "metadata": {},
   "source": [
    "#### dividing data to have a training and a testing set"
   ]
  },
  {
   "cell_type": "code",
   "execution_count": 7,
   "metadata": {},
   "outputs": [],
   "source": [
    "X_train, X_test, y_train, y_test = train_test_split(X, y, test_size=0.2)"
   ]
  },
  {
   "cell_type": "markdown",
   "metadata": {},
   "source": [
    "#### Finding the optimal accuracy score using LinearRegression algorithm"
   ]
  },
  {
   "cell_type": "code",
   "execution_count": 8,
   "metadata": {},
   "outputs": [
    {
     "name": "stdout",
     "output_type": "stream",
     "text": [
      "Score: 0.40997893096873406\n"
     ]
    },
    {
     "data": {
      "image/png": "[encoded data removed]",
      "text/plain": [
       "<matplotlib.figure.Figure at 0x1ba90d10080>"
      ]
     },
     "metadata": {},
     "output_type": "display_data"
    }
   ],
   "source": [
    "lm = linear_model.LinearRegression()\n",
    "model_ = lm.fit(X_train, y_train)\n",
    "predictions = lm.predict(X_test)\n",
    "plt.scatter(y_test, predictions)\n",
    "plt.xlabel(\"True Values\")\n",
    "plt.ylabel(\"Predictions\")\n",
    "plt.xticks([0,1],['0','1'])\n",
    "print (\"Score:\", model_.score(X_test, y_test))\n"
   ]
  },
  {
   "cell_type": "markdown",
   "metadata": {},
   "source": [
    "### Using Linear Regression, the accuracy score is ~40.5% for user to likely to recommend a product."
   ]
  },
  {
   "cell_type": "code",
   "execution_count": 9,
   "metadata": {
    "scrolled": true
   },
   "outputs": [
    {
     "name": "stdout",
     "output_type": "stream",
     "text": [
      "Train: [    0     2     3 ... 71000 71001 71002] Validation: [    1     7     9 ... 70989 70991 70996]\n",
      "Train: [    0     1     3 ... 71000 71001 71002] Validation: [    2     4     6 ... 70974 70988 70999]\n",
      "Train: [    1     2     3 ... 70999 71000 71001] Validation: [    0    11    12 ... 70980 70990 71002]\n",
      "Train: [    0     1     2 ... 70998 70999 71002] Validation: [    5     8    10 ... 70997 71000 71001]\n",
      "Train: [    0     1     2 ... 71000 71001 71002] Validation: [    3    17    18 ... 70992 70993 70998]\n",
      "Train: [    0     2     3 ... 70999 71000 71001] Validation: [    1    14    20 ... 70992 70997 71002]\n",
      "Train: [    0     1     2 ... 70999 71000 71002] Validation: [    7    13    22 ... 70964 70995 71001]\n",
      "Train: [    0     1     5 ... 71000 71001 71002] Validation: [    2     3     4 ... 70983 70989 70998]\n",
      "Train: [    1     2     3 ... 70999 71001 71002] Validation: [    0     5    11 ... 70985 70990 71000]\n",
      "Train: [    0     1     2 ... 71000 71001 71002] Validation: [    6     8    17 ... 70994 70996 70999]\n",
      "Train: [    0     1     4 ... 70999 71001 71002] Validation: [    2     3     5 ... 70987 70991 71000]\n",
      "Train: [    0     1     2 ... 71000 71001 71002] Validation: [    7    19    24 ... 70996 70998 70999]\n",
      "Train: [    0     1     2 ... 70998 70999 71000] Validation: [   14    21    27 ... 70992 71001 71002]\n",
      "Train: [    0     2     3 ... 71000 71001 71002] Validation: [    1     4     8 ... 70974 70976 70997]\n",
      "Train: [    1     2     3 ... 71000 71001 71002] Validation: [    0    10    11 ... 70993 70994 70995]\n",
      "Train: [    0     1     2 ... 70999 71000 71001] Validation: [    5     9    10 ... 70995 70998 71002]\n",
      "Train: [    0     2     5 ... 71000 71001 71002] Validation: [    1     3     4 ... 70988 70989 70991]\n",
      "Train: [    0     1     3 ... 71000 71001 71002] Validation: [    2     8    17 ... 70979 70981 70999]\n",
      "Train: [    0     1     2 ... 70999 71000 71002] Validation: [    7    24    26 ... 70996 70997 71001]\n",
      "Train: [    1     2     3 ... 70999 71001 71002] Validation: [    0    11    12 ... 70993 70994 71000]\n",
      "Train: [    0     1     3 ... 70999 71000 71001] Validation: [    2     6     8 ... 70988 70990 71002]\n",
      "Train: [    0     2     4 ... 70999 71000 71002] Validation: [    1     3     5 ... 70986 70992 71001]\n",
      "Train: [    0     1     2 ... 71000 71001 71002] Validation: [    9    15    22 ... 70989 70994 70997]\n",
      "Train: [    1     2     3 ... 71000 71001 71002] Validation: [    0     7    19 ... 70980 70987 70995]\n",
      "Train: [    0     1     2 ... 70997 71001 71002] Validation: [    4    10    11 ... 70998 70999 71000]\n",
      "Train: [    0     2     3 ... 71000 71001 71002] Validation: [    1     9    13 ... 70987 70991 70996]\n",
      "Train: [    0     1     2 ... 71000 71001 71002] Validation: [   20    31    39 ... 70983 70990 70995]\n",
      "Train: [    0     1     2 ... 70999 71001 71002] Validation: [   14    15    17 ... 70997 70998 71000]\n",
      "Train: [    1     2     3 ... 70999 71000 71001] Validation: [    0     4     6 ... 70989 70993 71002]\n",
      "Train: [    0     1     4 ... 70998 71000 71002] Validation: [    2     3     5 ... 70994 70999 71001]\n",
      "Train: [    0     1     2 ... 70996 70999 71002] Validation: [    5    19    24 ... 70998 71000 71001]\n",
      "Train: [    0     1     2 ... 70999 71000 71001] Validation: [    6    13    14 ... 70992 70995 71002]\n",
      "Train: [    0     1     2 ... 71000 71001 71002] Validation: [    3     4     8 ... 70980 70982 70996]\n",
      "Train: [    1     3     4 ... 71000 71001 71002] Validation: [    0     2    16 ... 70985 70990 70994]\n",
      "Train: [    0     2     3 ... 71000 71001 71002] Validation: [    1     7    12 ... 70974 70976 70999]\n",
      "Train: [    0     3     4 ... 70999 71000 71002] Validation: [    1     2     5 ... 70994 70996 71001]\n",
      "Train: [    1     2     3 ... 70998 70999 71001] Validation: [    0    12    17 ... 70985 71000 71002]\n",
      "Train: [    0     1     2 ... 71000 71001 71002] Validation: [    7    10    11 ... 70995 70998 70999]\n",
      "Train: [    0     1     2 ... 71000 71001 71002] Validation: [    3     6     8 ... 70987 70992 70997]\n",
      "Train: [    0     1     2 ... 71000 71001 71002] Validation: [    4    16    39 ... 70988 70990 70993]\n",
      "Train: [    0     1     2 ... 70999 71000 71002] Validation: [    4     5     7 ... 70985 70989 71001]\n",
      "Train: [    0     1     2 ... 70998 71000 71001] Validation: [    6     9    50 ... 70997 70999 71002]\n",
      "Train: [    2     3     4 ... 71000 71001 71002] Validation: [    0     1    10 ... 70993 70994 70995]\n",
      "Train: [    0     1     2 ... 71000 71001 71002] Validation: [   12    15    24 ... 70973 70981 70998]\n",
      "Train: [    0     1     4 ... 70999 71001 71002] Validation: [    2     3    16 ... 70988 70992 71000]\n",
      "Train: [    0     1     3 ... 71000 71001 71002] Validation: [    2     5     7 ... 70994 70998 70999]\n",
      "Train: [    1     2     3 ... 71000 71001 71002] Validation: [    0     6    21 ... 70973 70986 70995]\n",
      "Train: [    0     2     3 ... 70997 70998 70999] Validation: [    1    10    14 ... 71000 71001 71002]\n",
      "Train: [    0     1     2 ... 71000 71001 71002] Validation: [    3     4     8 ... 70991 70993 70997]\n",
      "Train: [    0     1     2 ... 71000 71001 71002] Validation: [    9    11    12 ... 70981 70987 70988]\n"
     ]
    }
   ],
   "source": [
    "from sklearn.model_selection import RepeatedKFold\n",
    "\n",
    "kf = RepeatedKFold(n_splits=5, n_repeats=10, random_state=None) \n",
    "for train_index, test_index in kf.split(X):\n",
    "    print(\"Train:\", train_index, \"Validation:\",test_index)\n",
    "    X_train, X_test = X.iloc[train_index], X.iloc[test_index] \n",
    "    y_train, y_test = y.iloc[train_index], y.iloc[test_index]"
   ]
  },
  {
   "cell_type": "markdown",
   "metadata": {},
   "source": [
    "#### Create confusion matrix"
   ]
  },
  {
   "cell_type": "code",
   "execution_count": 10,
   "metadata": {},
   "outputs": [
    {
     "data": {
      "text/html": [
       "<div>\n",
       "<style scoped>\n",
       "    .dataframe tbody tr th:only-of-type {\n",
       "        vertical-align: middle;\n",
       "    }\n",
       "\n",
       "    .dataframe tbody tr th {\n",
       "        vertical-align: top;\n",
       "    }\n",
       "\n",
       "    .dataframe thead th {\n",
       "        text-align: right;\n",
       "    }\n",
       "</style>\n",
       "<table border=\"1\" class=\"dataframe\">\n",
       "  <thead>\n",
       "    <tr style=\"text-align: right;\">\n",
       "      <th>Predicted</th>\n",
       "      <th>0.41407224403637377</th>\n",
       "      <th>0.45884687148580966</th>\n",
       "      <th>0.5591296822321032</th>\n",
       "      <th>0.6039043096815391</th>\n",
       "      <th>0.7041871204278327</th>\n",
       "      <th>0.7489617478772685</th>\n",
       "      <th>0.8492445586235622</th>\n",
       "      <th>0.8940191860729981</th>\n",
       "      <th>0.9943019968192917</th>\n",
       "      <th>1.0390766242687275</th>\n",
       "    </tr>\n",
       "    <tr>\n",
       "      <th>Actual</th>\n",
       "      <th></th>\n",
       "      <th></th>\n",
       "      <th></th>\n",
       "      <th></th>\n",
       "      <th></th>\n",
       "      <th></th>\n",
       "      <th></th>\n",
       "      <th></th>\n",
       "      <th></th>\n",
       "      <th></th>\n",
       "    </tr>\n",
       "  </thead>\n",
       "  <tbody>\n",
       "    <tr>\n",
       "      <th>0</th>\n",
       "      <td>28</td>\n",
       "      <td>21</td>\n",
       "      <td>17</td>\n",
       "      <td>14</td>\n",
       "      <td>15</td>\n",
       "      <td>36</td>\n",
       "      <td>73</td>\n",
       "      <td>131</td>\n",
       "      <td>251</td>\n",
       "      <td>400</td>\n",
       "    </tr>\n",
       "    <tr>\n",
       "      <th>1</th>\n",
       "      <td>418</td>\n",
       "      <td>268</td>\n",
       "      <td>188</td>\n",
       "      <td>203</td>\n",
       "      <td>274</td>\n",
       "      <td>545</td>\n",
       "      <td>915</td>\n",
       "      <td>1805</td>\n",
       "      <td>3586</td>\n",
       "      <td>5012</td>\n",
       "    </tr>\n",
       "  </tbody>\n",
       "</table>\n",
       "</div>"
      ],
      "text/plain": [
       "Predicted  0.414072  0.458847  0.559130  0.603904  0.704187  0.748962  \\\n",
       "Actual                                                                  \n",
       "0                28        21        17        14        15        36   \n",
       "1               418       268       188       203       274       545   \n",
       "\n",
       "Predicted  0.849245  0.894019  0.994302  1.039077  \n",
       "Actual                                             \n",
       "0                73       131       251       400  \n",
       "1               915      1805      3586      5012  "
      ]
     },
     "execution_count": 10,
     "metadata": {},
     "output_type": "execute_result"
    }
   ],
   "source": [
    "pd.crosstab(y_test, predictions[:-1].copy(), rownames=['Actual'], colnames=['Predicted'])"
   ]
  },
  {
   "cell_type": "code",
   "execution_count": 11,
   "metadata": {},
   "outputs": [
    {
     "data": {
      "text/plain": [
       "(14200,)"
      ]
     },
     "execution_count": 11,
     "metadata": {},
     "output_type": "execute_result"
    }
   ],
   "source": [
    "predictions[:-1].copy().shape"
   ]
  },
  {
   "cell_type": "code",
   "execution_count": 12,
   "metadata": {
    "scrolled": true
   },
   "outputs": [
    {
     "data": {
      "text/plain": [
       "0        1\n",
       "1        1\n",
       "2        1\n",
       "3        0\n",
       "4        0\n",
       "5        0\n",
       "6        0\n",
       "7        0\n",
       "8        0\n",
       "9        0\n",
       "10       0\n",
       "11       0\n",
       "12       0\n",
       "13       0\n",
       "14       0\n",
       "15       0\n",
       "16       0\n",
       "17       0\n",
       "18       1\n",
       "19       0\n",
       "20       1\n",
       "21       1\n",
       "22       1\n",
       "23       1\n",
       "24       1\n",
       "25       1\n",
       "26       1\n",
       "27       1\n",
       "28       1\n",
       "29       1\n",
       "        ..\n",
       "70973    1\n",
       "70974    1\n",
       "70975    1\n",
       "70976    1\n",
       "70977    1\n",
       "70978    1\n",
       "70979    1\n",
       "70980    1\n",
       "70981    1\n",
       "70982    1\n",
       "70983    1\n",
       "70984    1\n",
       "70985    1\n",
       "70986    1\n",
       "70987    1\n",
       "70988    1\n",
       "70989    1\n",
       "70990    1\n",
       "70991    1\n",
       "70992    1\n",
       "70993    1\n",
       "70994    1\n",
       "70995    1\n",
       "70996    1\n",
       "70997    1\n",
       "70998    1\n",
       "70999    1\n",
       "71000    1\n",
       "71001    1\n",
       "71002    1\n",
       "Name: doRecommend, Length: 71003, dtype: int64"
      ]
     },
     "execution_count": 12,
     "metadata": {},
     "output_type": "execute_result"
    }
   ],
   "source": [
    "y"
   ]
  },
  {
   "cell_type": "code",
   "execution_count": null,
   "metadata": {},
   "outputs": [],
   "source": []
  }
 ],
 "metadata": {
  "kernelspec": {
   "display_name": "Python 3",
   "language": "python",
   "name": "python3"
  },
  "language_info": {
   "codemirror_mode": {
    "name": "ipython",
    "version": 3
   },
   "file_extension": ".py",
   "mimetype": "text/x-python",
   "name": "python",
   "nbconvert_exporter": "python",
   "pygments_lexer": "ipython3",
   "version": "3.6.4"
  }
 },
 "nbformat": 4,
 "nbformat_minor": 2
}
